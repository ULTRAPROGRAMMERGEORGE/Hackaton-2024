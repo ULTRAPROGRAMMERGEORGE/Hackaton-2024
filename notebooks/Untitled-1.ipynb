{
 "cells": [
  {
   "cell_type": "code",
   "execution_count": null,
   "metadata": {},
   "outputs": [],
   "source": [
    "from typing import Optional, Literal, Callable, Sequence, Any\n",
    "from pathlib import Path\n",
    "from functools import partial\n",
    "from multiprocessing import Pool\n",
    "from tqdm.notebook import tqdm\n",
    "import random\n",
    "import pandas as pd\n",
    "import numpy as np\n",
    "import matplotlib.pyplot as plt\n",
    "import seaborn as sns\n",
    "sns.set_theme()\n",
    "import pydicom\n",
    "from PIL import Image\n",
    "import cv2\n",
    "cv2.setNumThreads(0)\n",
    "from catboost import CatBoostClassifier\n",
    "import torch\n",
    "import torch.nn as nn\n",
    "import torch.nn.functional as F\n",
    "from torch.utils.data import Dataset, DataLoader\n",
    "import albumentations as A\n",
    "from albumentations.pytorch import ToTensorV2\n",
    "\n",
    "import lightning.pytorch as pl\n",
    "from torchmetrics.classification import (\n",
    "    MultilabelAUROC, MultilabelAveragePrecision\n",
    ")\n",
    "from lightning.pytorch.loggers import CSVLogger\n",
    "from lightning.pytorch.utilities.types import OptimizerLRScheduler\n",
    "\n",
    "from torchvision.models.resnet import resnet50\n",
    "\n",
    "from moonshot.model import moonshot\n",
    "from moonshot.image_processor import ImageProcessor\n",
    "from moonshot.utils import eval_mode\n",
    "\n",
    "\n",
    "DEVICE = torch.device('cuda')\n",
    "NUM_WORKERS = 16  # поменяйте на кол-во доступных CPU\n",
    "\n",
    "# укажите полный или относительный путь до файла с весами модели Moonshot\n",
    "MOONSHOT_MODEL_FILEPATH = Path('../vision_model.pt')  # путь до модели, если она лежит в корне репозитория"
   ]
  },
  {
   "cell_type": "code",
   "execution_count": null,
   "metadata": {},
   "outputs": [],
   "source": [
    "VINDRCXR_DIRPATH = Path('D:/ds_clav_fracture_train_good/block_0000_anon/')"
   ]
  },
  {
   "cell_type": "code",
   "execution_count": null,
   "metadata": {},
   "outputs": [],
   "source": [
    "dicom_filepath = random.choice(list((VINDRCXR_DIRPATH / 'train').iterdir()))\n",
    "dicom = pydicom.dcmread(dicom_filepath)\n",
    "image = ImageProcessor.preprocess_dicom(dicom)\n",
    "image.show()"
   ]
  },
  {
   "cell_type": "code",
   "execution_count": null,
   "metadata": {},
   "outputs": [],
   "source": [
    "model = CatBoostClassifier(iterations=1000, learning_rate=0.1, depth=6)\n"
   ]
  }
 ],
 "metadata": {
  "kernelspec": {
   "display_name": "moonshot",
   "language": "python",
   "name": "moonshot"
  },
  "language_info": {
   "name": "python",
   "version": "3.10.0"
  }
 },
 "nbformat": 4,
 "nbformat_minor": 2
}
