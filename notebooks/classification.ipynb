{
 "cells": [
  {
   "cell_type": "markdown",
   "metadata": {},
   "source": [
    "# Пример 1: обучение классификаторов на основе Moonshot\n",
    "\n",
    "В этом примере мы показываем как обучать модель для классификации рентгенографических изображений грудной клетки на основе базовой модели Moonshot.\n",
    "\n",
    "Для примера, мы обучаем и тестируем модель для классификации 27 различных патологий на датасете [VinDr-CXR dataset](https://vindr.ai/datasets/cxr) [1].\n",
    "\n",
    "Чтобы продемонстрировать преимущество Moonshot по сравнению с другими моделями, мы сравниваем качество классификатора обученного на основе Moonshot, с качеством стандратного классификатора, обученного на основе ResNet50."
   ]
  },
  {
   "cell_type": "markdown",
   "metadata": {},
   "source": [
    "## 0. Установка и импорт зависимостей"
   ]
  },
  {
   "cell_type": "markdown",
   "metadata": {},
   "source": [
    "Прежде чем начать, убедитесь, что вы установили все зависимости, следуя инструкции из [README](../README.md)."
   ]
  },
  {
   "cell_type": "code",
   "execution_count": 4,
   "metadata": {},
   "outputs": [],
   "source": [
    "from typing import Optional, Literal, Callable, Sequence, Any\n",
    "from pathlib import Path\n",
    "from functools import partial\n",
    "from multiprocessing import Pool\n",
    "from tqdm.notebook import tqdm\n",
    "import random\n",
    "import pandas as pd\n",
    "import numpy as np\n",
    "import matplotlib.pyplot as plt\n",
    "import seaborn as sns\n",
    "sns.set_theme()\n",
    "import pydicom\n",
    "from PIL import Image\n",
    "import cv2\n",
    "cv2.setNumThreads(0)\n",
    "\n",
    "import torch\n",
    "import torch.nn as nn\n",
    "import torch.nn.functional as F\n",
    "from torch.utils.data import Dataset, DataLoader\n",
    "import albumentations as A\n",
    "from albumentations.pytorch import ToTensorV2\n",
    "\n",
    "import lightning.pytorch as pl\n",
    "from torchmetrics.classification import (\n",
    "    MultilabelAUROC, MultilabelAveragePrecision\n",
    ")\n",
    "from lightning.pytorch.loggers import CSVLogger\n",
    "from lightning.pytorch.utilities.types import OptimizerLRScheduler\n",
    "\n",
    "from torchvision.models.resnet import resnet50\n",
    "\n",
    "from moonshot.model import moonshot\n",
    "from moonshot.image_processor import ImageProcessor\n",
    "from moonshot.utils import eval_mode\n",
    "\n",
    "\n",
    "DEVICE = torch.device('cuda')\n",
    "NUM_WORKERS = 16  # поменяйте на кол-во доступных CPU\n",
    "\n",
    "# укажите полный или относительный путь до файла с весами модели Moonshot\n",
    "MOONSHOT_MODEL_FILEPATH = Path('../vision_model.pt')  # путь до модели, если она лежит в корне репозитория"
   ]
  },
  {
   "cell_type": "markdown",
   "metadata": {},
   "source": [
    "## 1. Данные\n",
    "\n",
    "### 1.1. Загрузка датасета\n",
    "\n",
    "Загрузите датасет VinDr-CXR следуя инструкции на сайте [PhysioNet](https://physionet.org/content/vindr-cxr/1.0.0/).\n",
    "\n",
    "После загрузки датасета, у вас на диске должна быть следующая папочная структура:\n",
    "```\n",
    "/path/to/vindr/\n",
    "    - train\n",
    "        - 000434271f63a053c4128a0ba6352c7f.dicom\n",
    "        - 00053190460d56c53cc3e57321387478.dicom\n",
    "        - 0005e8e3701dfb1dd93d53e2ff537b6e.dicom\n",
    "        - ...\n",
    "    - test\n",
    "        - 002a34c58c5b758217ed1f584ccbcfe9.dicom\n",
    "        - 004f33259ee4aef671c2b95d54e4be68.dicom\n",
    "        - 008bdde2af2462e86fd373a445d0f4cd.dicom\n",
    "        - ...\n",
    "    - annotations\n",
    "        - annotations_test.csv\n",
    "        - annotations_train.csv\n",
    "        - image_labels_test.csv\n",
    "        - image_labels_train.csv\n",
    "```\n"
   ]
  },
  {
   "cell_type": "code",
   "execution_count": null,
   "metadata": {},
   "outputs": [],
   "source": [
    "\n",
    "# VINDRCXR_DIRPATH = Path('/path/to/vindr')"
   ]
  },
  {
   "cell_type": "markdown",
   "metadata": {},
   "source": [
    "### 1.2. Предварительный анализ данных\n",
    "\n",
    "Давайте посмотрим на несколько случайных изображений из датасета:"
   ]
  },
  {
   "cell_type": "code",
   "execution_count": 2,
   "metadata": {},
   "outputs": [
    {
     "ename": "NameError",
     "evalue": "name 'VINDRCXR_DIRPATH' is not defined",
     "output_type": "error",
     "traceback": [
      "\u001b[1;31m---------------------------------------------------------------------------\u001b[0m",
      "\u001b[1;31mNameError\u001b[0m                                 Traceback (most recent call last)",
      "Cell \u001b[1;32mIn[2], line 1\u001b[0m\n\u001b[1;32m----> 1\u001b[0m dicom_filepath \u001b[38;5;241m=\u001b[39m random\u001b[38;5;241m.\u001b[39mchoice(\u001b[38;5;28mlist\u001b[39m((\u001b[43mVINDRCXR_DIRPATH\u001b[49m \u001b[38;5;241m/\u001b[39m \u001b[38;5;124m'\u001b[39m\u001b[38;5;124mtrain\u001b[39m\u001b[38;5;124m'\u001b[39m)\u001b[38;5;241m.\u001b[39miterdir()))\n\u001b[0;32m      2\u001b[0m dicom \u001b[38;5;241m=\u001b[39m pydicom\u001b[38;5;241m.\u001b[39mdcmread(dicom_filepath)\n\u001b[0;32m      3\u001b[0m image \u001b[38;5;241m=\u001b[39m ImageProcessor\u001b[38;5;241m.\u001b[39mpreprocess_dicom(dicom)\n",
      "\u001b[1;31mNameError\u001b[0m: name 'VINDRCXR_DIRPATH' is not defined"
     ]
    }
   ],
   "source": [
    "dicom_filepath = random.choice(list((VINDRCXR_DIRPATH / 'train').iterdir()))\n",
    "dicom = pydicom.dcmread(dicom_filepath)\n",
    "image = ImageProcessor.preprocess_dicom(dicom)\n",
    "image.show()"
   ]
  },
  {
   "cell_type": "markdown",
   "metadata": {},
   "source": [
    "Обратите внимание, что исходные изображения имеют очень высокое разрешение:"
   ]
  },
  {
   "cell_type": "code",
   "execution_count": 3,
   "metadata": {},
   "outputs": [
    {
     "ename": "NameError",
     "evalue": "name 'dicom' is not defined",
     "output_type": "error",
     "traceback": [
      "\u001b[1;31m---------------------------------------------------------------------------\u001b[0m",
      "\u001b[1;31mNameError\u001b[0m                                 Traceback (most recent call last)",
      "Cell \u001b[1;32mIn[3], line 1\u001b[0m\n\u001b[1;32m----> 1\u001b[0m \u001b[43mdicom\u001b[49m\u001b[38;5;241m.\u001b[39mpixel_array\u001b[38;5;241m.\u001b[39mshape\n",
      "\u001b[1;31mNameError\u001b[0m: name 'dicom' is not defined"
     ]
    }
   ],
   "source": [
    "dicom.pixel_array.shape"
   ]
  },
  {
   "cell_type": "markdown",
   "metadata": {},
   "source": [
    "Посмотрим на таблицу с обучающими метками:"
   ]
  },
  {
   "cell_type": "code",
   "execution_count": 6,
   "metadata": {},
   "outputs": [
    {
     "data": {
      "text/html": [
       "<div>\n",
       "<style scoped>\n",
       "    .dataframe tbody tr th:only-of-type {\n",
       "        vertical-align: middle;\n",
       "    }\n",
       "\n",
       "    .dataframe tbody tr th {\n",
       "        vertical-align: top;\n",
       "    }\n",
       "\n",
       "    .dataframe thead th {\n",
       "        text-align: right;\n",
       "    }\n",
       "</style>\n",
       "<table border=\"1\" class=\"dataframe\">\n",
       "  <thead>\n",
       "    <tr style=\"text-align: right;\">\n",
       "      <th></th>\n",
       "      <th>image_id</th>\n",
       "      <th>rad_id</th>\n",
       "      <th>Aortic enlargement</th>\n",
       "      <th>Atelectasis</th>\n",
       "      <th>Calcification</th>\n",
       "      <th>Cardiomegaly</th>\n",
       "      <th>Clavicle fracture</th>\n",
       "      <th>Consolidation</th>\n",
       "      <th>Edema</th>\n",
       "      <th>Emphysema</th>\n",
       "      <th>...</th>\n",
       "      <th>Pneumothorax</th>\n",
       "      <th>Pulmonary fibrosis</th>\n",
       "      <th>Rib fracture</th>\n",
       "      <th>Other lesion</th>\n",
       "      <th>COPD</th>\n",
       "      <th>Lung tumor</th>\n",
       "      <th>Pneumonia</th>\n",
       "      <th>Tuberculosis</th>\n",
       "      <th>Other diseases</th>\n",
       "      <th>No finding</th>\n",
       "    </tr>\n",
       "  </thead>\n",
       "  <tbody>\n",
       "    <tr>\n",
       "      <th>0</th>\n",
       "      <td>000434271f63a053c4128a0ba6352c7f</td>\n",
       "      <td>R2</td>\n",
       "      <td>0</td>\n",
       "      <td>0</td>\n",
       "      <td>0</td>\n",
       "      <td>0</td>\n",
       "      <td>0</td>\n",
       "      <td>0</td>\n",
       "      <td>0</td>\n",
       "      <td>0</td>\n",
       "      <td>...</td>\n",
       "      <td>0</td>\n",
       "      <td>0</td>\n",
       "      <td>0</td>\n",
       "      <td>0</td>\n",
       "      <td>0</td>\n",
       "      <td>0</td>\n",
       "      <td>0</td>\n",
       "      <td>0</td>\n",
       "      <td>0</td>\n",
       "      <td>1</td>\n",
       "    </tr>\n",
       "    <tr>\n",
       "      <th>1</th>\n",
       "      <td>000434271f63a053c4128a0ba6352c7f</td>\n",
       "      <td>R3</td>\n",
       "      <td>0</td>\n",
       "      <td>0</td>\n",
       "      <td>0</td>\n",
       "      <td>0</td>\n",
       "      <td>0</td>\n",
       "      <td>0</td>\n",
       "      <td>0</td>\n",
       "      <td>0</td>\n",
       "      <td>...</td>\n",
       "      <td>0</td>\n",
       "      <td>0</td>\n",
       "      <td>0</td>\n",
       "      <td>0</td>\n",
       "      <td>0</td>\n",
       "      <td>0</td>\n",
       "      <td>0</td>\n",
       "      <td>0</td>\n",
       "      <td>0</td>\n",
       "      <td>1</td>\n",
       "    </tr>\n",
       "    <tr>\n",
       "      <th>2</th>\n",
       "      <td>000434271f63a053c4128a0ba6352c7f</td>\n",
       "      <td>R6</td>\n",
       "      <td>0</td>\n",
       "      <td>0</td>\n",
       "      <td>0</td>\n",
       "      <td>0</td>\n",
       "      <td>0</td>\n",
       "      <td>0</td>\n",
       "      <td>0</td>\n",
       "      <td>0</td>\n",
       "      <td>...</td>\n",
       "      <td>0</td>\n",
       "      <td>0</td>\n",
       "      <td>0</td>\n",
       "      <td>0</td>\n",
       "      <td>0</td>\n",
       "      <td>0</td>\n",
       "      <td>0</td>\n",
       "      <td>0</td>\n",
       "      <td>0</td>\n",
       "      <td>1</td>\n",
       "    </tr>\n",
       "    <tr>\n",
       "      <th>3</th>\n",
       "      <td>00053190460d56c53cc3e57321387478</td>\n",
       "      <td>R11</td>\n",
       "      <td>0</td>\n",
       "      <td>0</td>\n",
       "      <td>0</td>\n",
       "      <td>0</td>\n",
       "      <td>0</td>\n",
       "      <td>0</td>\n",
       "      <td>0</td>\n",
       "      <td>0</td>\n",
       "      <td>...</td>\n",
       "      <td>0</td>\n",
       "      <td>0</td>\n",
       "      <td>0</td>\n",
       "      <td>0</td>\n",
       "      <td>0</td>\n",
       "      <td>0</td>\n",
       "      <td>0</td>\n",
       "      <td>0</td>\n",
       "      <td>0</td>\n",
       "      <td>1</td>\n",
       "    </tr>\n",
       "    <tr>\n",
       "      <th>4</th>\n",
       "      <td>00053190460d56c53cc3e57321387478</td>\n",
       "      <td>R2</td>\n",
       "      <td>0</td>\n",
       "      <td>0</td>\n",
       "      <td>0</td>\n",
       "      <td>0</td>\n",
       "      <td>0</td>\n",
       "      <td>0</td>\n",
       "      <td>0</td>\n",
       "      <td>0</td>\n",
       "      <td>...</td>\n",
       "      <td>0</td>\n",
       "      <td>0</td>\n",
       "      <td>0</td>\n",
       "      <td>0</td>\n",
       "      <td>0</td>\n",
       "      <td>0</td>\n",
       "      <td>0</td>\n",
       "      <td>0</td>\n",
       "      <td>0</td>\n",
       "      <td>1</td>\n",
       "    </tr>\n",
       "    <tr>\n",
       "      <th>...</th>\n",
       "      <td>...</td>\n",
       "      <td>...</td>\n",
       "      <td>...</td>\n",
       "      <td>...</td>\n",
       "      <td>...</td>\n",
       "      <td>...</td>\n",
       "      <td>...</td>\n",
       "      <td>...</td>\n",
       "      <td>...</td>\n",
       "      <td>...</td>\n",
       "      <td>...</td>\n",
       "      <td>...</td>\n",
       "      <td>...</td>\n",
       "      <td>...</td>\n",
       "      <td>...</td>\n",
       "      <td>...</td>\n",
       "      <td>...</td>\n",
       "      <td>...</td>\n",
       "      <td>...</td>\n",
       "      <td>...</td>\n",
       "      <td>...</td>\n",
       "    </tr>\n",
       "    <tr>\n",
       "      <th>44995</th>\n",
       "      <td>fff0f82159f9083f3dd1f8967fc54f6a</td>\n",
       "      <td>R8</td>\n",
       "      <td>0</td>\n",
       "      <td>0</td>\n",
       "      <td>0</td>\n",
       "      <td>0</td>\n",
       "      <td>0</td>\n",
       "      <td>0</td>\n",
       "      <td>0</td>\n",
       "      <td>0</td>\n",
       "      <td>...</td>\n",
       "      <td>0</td>\n",
       "      <td>0</td>\n",
       "      <td>0</td>\n",
       "      <td>0</td>\n",
       "      <td>0</td>\n",
       "      <td>0</td>\n",
       "      <td>0</td>\n",
       "      <td>0</td>\n",
       "      <td>0</td>\n",
       "      <td>1</td>\n",
       "    </tr>\n",
       "    <tr>\n",
       "      <th>44996</th>\n",
       "      <td>fff0f82159f9083f3dd1f8967fc54f6a</td>\n",
       "      <td>R9</td>\n",
       "      <td>0</td>\n",
       "      <td>0</td>\n",
       "      <td>0</td>\n",
       "      <td>0</td>\n",
       "      <td>0</td>\n",
       "      <td>0</td>\n",
       "      <td>0</td>\n",
       "      <td>0</td>\n",
       "      <td>...</td>\n",
       "      <td>0</td>\n",
       "      <td>0</td>\n",
       "      <td>0</td>\n",
       "      <td>0</td>\n",
       "      <td>0</td>\n",
       "      <td>0</td>\n",
       "      <td>0</td>\n",
       "      <td>0</td>\n",
       "      <td>0</td>\n",
       "      <td>1</td>\n",
       "    </tr>\n",
       "    <tr>\n",
       "      <th>44997</th>\n",
       "      <td>fff2025e3c1d6970a8a6ee0404ac6940</td>\n",
       "      <td>R1</td>\n",
       "      <td>0</td>\n",
       "      <td>0</td>\n",
       "      <td>0</td>\n",
       "      <td>0</td>\n",
       "      <td>0</td>\n",
       "      <td>0</td>\n",
       "      <td>0</td>\n",
       "      <td>0</td>\n",
       "      <td>...</td>\n",
       "      <td>0</td>\n",
       "      <td>0</td>\n",
       "      <td>0</td>\n",
       "      <td>0</td>\n",
       "      <td>0</td>\n",
       "      <td>0</td>\n",
       "      <td>0</td>\n",
       "      <td>0</td>\n",
       "      <td>0</td>\n",
       "      <td>1</td>\n",
       "    </tr>\n",
       "    <tr>\n",
       "      <th>44998</th>\n",
       "      <td>fff2025e3c1d6970a8a6ee0404ac6940</td>\n",
       "      <td>R2</td>\n",
       "      <td>0</td>\n",
       "      <td>0</td>\n",
       "      <td>0</td>\n",
       "      <td>0</td>\n",
       "      <td>0</td>\n",
       "      <td>0</td>\n",
       "      <td>0</td>\n",
       "      <td>0</td>\n",
       "      <td>...</td>\n",
       "      <td>0</td>\n",
       "      <td>0</td>\n",
       "      <td>0</td>\n",
       "      <td>0</td>\n",
       "      <td>0</td>\n",
       "      <td>0</td>\n",
       "      <td>0</td>\n",
       "      <td>0</td>\n",
       "      <td>0</td>\n",
       "      <td>1</td>\n",
       "    </tr>\n",
       "    <tr>\n",
       "      <th>44999</th>\n",
       "      <td>fff2025e3c1d6970a8a6ee0404ac6940</td>\n",
       "      <td>R5</td>\n",
       "      <td>0</td>\n",
       "      <td>0</td>\n",
       "      <td>0</td>\n",
       "      <td>0</td>\n",
       "      <td>0</td>\n",
       "      <td>0</td>\n",
       "      <td>0</td>\n",
       "      <td>0</td>\n",
       "      <td>...</td>\n",
       "      <td>0</td>\n",
       "      <td>0</td>\n",
       "      <td>0</td>\n",
       "      <td>0</td>\n",
       "      <td>0</td>\n",
       "      <td>0</td>\n",
       "      <td>0</td>\n",
       "      <td>0</td>\n",
       "      <td>0</td>\n",
       "      <td>1</td>\n",
       "    </tr>\n",
       "  </tbody>\n",
       "</table>\n",
       "<p>45000 rows × 30 columns</p>\n",
       "</div>"
      ],
      "text/plain": [
       "                               image_id rad_id  Aortic enlargement  \\\n",
       "0      000434271f63a053c4128a0ba6352c7f     R2                   0   \n",
       "1      000434271f63a053c4128a0ba6352c7f     R3                   0   \n",
       "2      000434271f63a053c4128a0ba6352c7f     R6                   0   \n",
       "3      00053190460d56c53cc3e57321387478    R11                   0   \n",
       "4      00053190460d56c53cc3e57321387478     R2                   0   \n",
       "...                                 ...    ...                 ...   \n",
       "44995  fff0f82159f9083f3dd1f8967fc54f6a     R8                   0   \n",
       "44996  fff0f82159f9083f3dd1f8967fc54f6a     R9                   0   \n",
       "44997  fff2025e3c1d6970a8a6ee0404ac6940     R1                   0   \n",
       "44998  fff2025e3c1d6970a8a6ee0404ac6940     R2                   0   \n",
       "44999  fff2025e3c1d6970a8a6ee0404ac6940     R5                   0   \n",
       "\n",
       "       Atelectasis  Calcification  Cardiomegaly  Clavicle fracture  \\\n",
       "0                0              0             0                  0   \n",
       "1                0              0             0                  0   \n",
       "2                0              0             0                  0   \n",
       "3                0              0             0                  0   \n",
       "4                0              0             0                  0   \n",
       "...            ...            ...           ...                ...   \n",
       "44995            0              0             0                  0   \n",
       "44996            0              0             0                  0   \n",
       "44997            0              0             0                  0   \n",
       "44998            0              0             0                  0   \n",
       "44999            0              0             0                  0   \n",
       "\n",
       "       Consolidation  Edema  Emphysema  ...  Pneumothorax  Pulmonary fibrosis  \\\n",
       "0                  0      0          0  ...             0                   0   \n",
       "1                  0      0          0  ...             0                   0   \n",
       "2                  0      0          0  ...             0                   0   \n",
       "3                  0      0          0  ...             0                   0   \n",
       "4                  0      0          0  ...             0                   0   \n",
       "...              ...    ...        ...  ...           ...                 ...   \n",
       "44995              0      0          0  ...             0                   0   \n",
       "44996              0      0          0  ...             0                   0   \n",
       "44997              0      0          0  ...             0                   0   \n",
       "44998              0      0          0  ...             0                   0   \n",
       "44999              0      0          0  ...             0                   0   \n",
       "\n",
       "       Rib fracture  Other lesion  COPD  Lung tumor  Pneumonia  Tuberculosis  \\\n",
       "0                 0             0     0           0          0             0   \n",
       "1                 0             0     0           0          0             0   \n",
       "2                 0             0     0           0          0             0   \n",
       "3                 0             0     0           0          0             0   \n",
       "4                 0             0     0           0          0             0   \n",
       "...             ...           ...   ...         ...        ...           ...   \n",
       "44995             0             0     0           0          0             0   \n",
       "44996             0             0     0           0          0             0   \n",
       "44997             0             0     0           0          0             0   \n",
       "44998             0             0     0           0          0             0   \n",
       "44999             0             0     0           0          0             0   \n",
       "\n",
       "       Other diseases  No finding  \n",
       "0                   0           1  \n",
       "1                   0           1  \n",
       "2                   0           1  \n",
       "3                   0           1  \n",
       "4                   0           1  \n",
       "...               ...         ...  \n",
       "44995               0           1  \n",
       "44996               0           1  \n",
       "44997               0           1  \n",
       "44998               0           1  \n",
       "44999               0           1  \n",
       "\n",
       "[45000 rows x 30 columns]"
      ]
     },
     "execution_count": 6,
     "metadata": {},
     "output_type": "execute_result"
    }
   ],
   "source": [
    "train_labels_df = pd.read_csv(VINDRCXR_DIRPATH / 'annotations' / 'image_labels_train.csv')\n",
    "train_labels_df"
   ]
  },
  {
   "cell_type": "markdown",
   "metadata": {},
   "source": [
    "Обратите внимание, что в ней есть по три строки на каждое изображение. Это значит, что каждое изображение было размечено тремя врачами-рентгенологами.\n",
    "\n",
    "Для обучения мы будем использовать метки, полученные голосованием:"
   ]
  },
  {
   "cell_type": "code",
   "execution_count": 7,
   "metadata": {},
   "outputs": [
    {
     "data": {
      "text/html": [
       "<div>\n",
       "<style scoped>\n",
       "    .dataframe tbody tr th:only-of-type {\n",
       "        vertical-align: middle;\n",
       "    }\n",
       "\n",
       "    .dataframe tbody tr th {\n",
       "        vertical-align: top;\n",
       "    }\n",
       "\n",
       "    .dataframe thead th {\n",
       "        text-align: right;\n",
       "    }\n",
       "</style>\n",
       "<table border=\"1\" class=\"dataframe\">\n",
       "  <thead>\n",
       "    <tr style=\"text-align: right;\">\n",
       "      <th></th>\n",
       "      <th>Aortic enlargement</th>\n",
       "      <th>Atelectasis</th>\n",
       "      <th>Calcification</th>\n",
       "      <th>Cardiomegaly</th>\n",
       "      <th>Clavicle fracture</th>\n",
       "      <th>Consolidation</th>\n",
       "      <th>Edema</th>\n",
       "      <th>Emphysema</th>\n",
       "      <th>Enlarged PA</th>\n",
       "      <th>ILD</th>\n",
       "      <th>...</th>\n",
       "      <th>Pneumothorax</th>\n",
       "      <th>Pulmonary fibrosis</th>\n",
       "      <th>Rib fracture</th>\n",
       "      <th>Other lesion</th>\n",
       "      <th>COPD</th>\n",
       "      <th>Lung tumor</th>\n",
       "      <th>Pneumonia</th>\n",
       "      <th>Tuberculosis</th>\n",
       "      <th>Other diseases</th>\n",
       "      <th>No finding</th>\n",
       "    </tr>\n",
       "    <tr>\n",
       "      <th>image_id</th>\n",
       "      <th></th>\n",
       "      <th></th>\n",
       "      <th></th>\n",
       "      <th></th>\n",
       "      <th></th>\n",
       "      <th></th>\n",
       "      <th></th>\n",
       "      <th></th>\n",
       "      <th></th>\n",
       "      <th></th>\n",
       "      <th></th>\n",
       "      <th></th>\n",
       "      <th></th>\n",
       "      <th></th>\n",
       "      <th></th>\n",
       "      <th></th>\n",
       "      <th></th>\n",
       "      <th></th>\n",
       "      <th></th>\n",
       "      <th></th>\n",
       "      <th></th>\n",
       "    </tr>\n",
       "  </thead>\n",
       "  <tbody>\n",
       "    <tr>\n",
       "      <th>000434271f63a053c4128a0ba6352c7f</th>\n",
       "      <td>False</td>\n",
       "      <td>False</td>\n",
       "      <td>False</td>\n",
       "      <td>False</td>\n",
       "      <td>False</td>\n",
       "      <td>False</td>\n",
       "      <td>False</td>\n",
       "      <td>False</td>\n",
       "      <td>False</td>\n",
       "      <td>False</td>\n",
       "      <td>...</td>\n",
       "      <td>False</td>\n",
       "      <td>False</td>\n",
       "      <td>False</td>\n",
       "      <td>False</td>\n",
       "      <td>False</td>\n",
       "      <td>False</td>\n",
       "      <td>False</td>\n",
       "      <td>False</td>\n",
       "      <td>False</td>\n",
       "      <td>True</td>\n",
       "    </tr>\n",
       "    <tr>\n",
       "      <th>00053190460d56c53cc3e57321387478</th>\n",
       "      <td>False</td>\n",
       "      <td>False</td>\n",
       "      <td>False</td>\n",
       "      <td>False</td>\n",
       "      <td>False</td>\n",
       "      <td>False</td>\n",
       "      <td>False</td>\n",
       "      <td>False</td>\n",
       "      <td>False</td>\n",
       "      <td>False</td>\n",
       "      <td>...</td>\n",
       "      <td>False</td>\n",
       "      <td>False</td>\n",
       "      <td>False</td>\n",
       "      <td>False</td>\n",
       "      <td>False</td>\n",
       "      <td>False</td>\n",
       "      <td>False</td>\n",
       "      <td>False</td>\n",
       "      <td>False</td>\n",
       "      <td>True</td>\n",
       "    </tr>\n",
       "    <tr>\n",
       "      <th>0005e8e3701dfb1dd93d53e2ff537b6e</th>\n",
       "      <td>False</td>\n",
       "      <td>False</td>\n",
       "      <td>False</td>\n",
       "      <td>False</td>\n",
       "      <td>False</td>\n",
       "      <td>False</td>\n",
       "      <td>False</td>\n",
       "      <td>False</td>\n",
       "      <td>False</td>\n",
       "      <td>False</td>\n",
       "      <td>...</td>\n",
       "      <td>False</td>\n",
       "      <td>False</td>\n",
       "      <td>False</td>\n",
       "      <td>False</td>\n",
       "      <td>False</td>\n",
       "      <td>True</td>\n",
       "      <td>True</td>\n",
       "      <td>True</td>\n",
       "      <td>False</td>\n",
       "      <td>False</td>\n",
       "    </tr>\n",
       "    <tr>\n",
       "      <th>0006e0a85696f6bb578e84fafa9a5607</th>\n",
       "      <td>False</td>\n",
       "      <td>False</td>\n",
       "      <td>False</td>\n",
       "      <td>False</td>\n",
       "      <td>False</td>\n",
       "      <td>False</td>\n",
       "      <td>False</td>\n",
       "      <td>False</td>\n",
       "      <td>False</td>\n",
       "      <td>False</td>\n",
       "      <td>...</td>\n",
       "      <td>False</td>\n",
       "      <td>False</td>\n",
       "      <td>False</td>\n",
       "      <td>False</td>\n",
       "      <td>False</td>\n",
       "      <td>False</td>\n",
       "      <td>False</td>\n",
       "      <td>False</td>\n",
       "      <td>False</td>\n",
       "      <td>True</td>\n",
       "    </tr>\n",
       "    <tr>\n",
       "      <th>0007d316f756b3fa0baea2ff514ce945</th>\n",
       "      <td>True</td>\n",
       "      <td>False</td>\n",
       "      <td>False</td>\n",
       "      <td>False</td>\n",
       "      <td>False</td>\n",
       "      <td>False</td>\n",
       "      <td>False</td>\n",
       "      <td>False</td>\n",
       "      <td>False</td>\n",
       "      <td>False</td>\n",
       "      <td>...</td>\n",
       "      <td>False</td>\n",
       "      <td>True</td>\n",
       "      <td>False</td>\n",
       "      <td>False</td>\n",
       "      <td>False</td>\n",
       "      <td>False</td>\n",
       "      <td>False</td>\n",
       "      <td>False</td>\n",
       "      <td>True</td>\n",
       "      <td>False</td>\n",
       "    </tr>\n",
       "    <tr>\n",
       "      <th>...</th>\n",
       "      <td>...</td>\n",
       "      <td>...</td>\n",
       "      <td>...</td>\n",
       "      <td>...</td>\n",
       "      <td>...</td>\n",
       "      <td>...</td>\n",
       "      <td>...</td>\n",
       "      <td>...</td>\n",
       "      <td>...</td>\n",
       "      <td>...</td>\n",
       "      <td>...</td>\n",
       "      <td>...</td>\n",
       "      <td>...</td>\n",
       "      <td>...</td>\n",
       "      <td>...</td>\n",
       "      <td>...</td>\n",
       "      <td>...</td>\n",
       "      <td>...</td>\n",
       "      <td>...</td>\n",
       "      <td>...</td>\n",
       "      <td>...</td>\n",
       "    </tr>\n",
       "    <tr>\n",
       "      <th>ffe6f9fe648a7ec29a50feb92d6c15a4</th>\n",
       "      <td>False</td>\n",
       "      <td>False</td>\n",
       "      <td>False</td>\n",
       "      <td>True</td>\n",
       "      <td>False</td>\n",
       "      <td>False</td>\n",
       "      <td>False</td>\n",
       "      <td>False</td>\n",
       "      <td>False</td>\n",
       "      <td>False</td>\n",
       "      <td>...</td>\n",
       "      <td>False</td>\n",
       "      <td>False</td>\n",
       "      <td>False</td>\n",
       "      <td>False</td>\n",
       "      <td>False</td>\n",
       "      <td>False</td>\n",
       "      <td>False</td>\n",
       "      <td>False</td>\n",
       "      <td>True</td>\n",
       "      <td>False</td>\n",
       "    </tr>\n",
       "    <tr>\n",
       "      <th>ffea246f04196af602c7dc123e5e48fc</th>\n",
       "      <td>False</td>\n",
       "      <td>False</td>\n",
       "      <td>False</td>\n",
       "      <td>False</td>\n",
       "      <td>False</td>\n",
       "      <td>False</td>\n",
       "      <td>False</td>\n",
       "      <td>False</td>\n",
       "      <td>False</td>\n",
       "      <td>False</td>\n",
       "      <td>...</td>\n",
       "      <td>False</td>\n",
       "      <td>False</td>\n",
       "      <td>False</td>\n",
       "      <td>False</td>\n",
       "      <td>False</td>\n",
       "      <td>False</td>\n",
       "      <td>False</td>\n",
       "      <td>False</td>\n",
       "      <td>False</td>\n",
       "      <td>True</td>\n",
       "    </tr>\n",
       "    <tr>\n",
       "      <th>ffeffc54594debf3716d6fcd2402a99f</th>\n",
       "      <td>True</td>\n",
       "      <td>False</td>\n",
       "      <td>False</td>\n",
       "      <td>False</td>\n",
       "      <td>False</td>\n",
       "      <td>False</td>\n",
       "      <td>False</td>\n",
       "      <td>False</td>\n",
       "      <td>False</td>\n",
       "      <td>False</td>\n",
       "      <td>...</td>\n",
       "      <td>False</td>\n",
       "      <td>False</td>\n",
       "      <td>False</td>\n",
       "      <td>False</td>\n",
       "      <td>False</td>\n",
       "      <td>False</td>\n",
       "      <td>False</td>\n",
       "      <td>False</td>\n",
       "      <td>True</td>\n",
       "      <td>False</td>\n",
       "    </tr>\n",
       "    <tr>\n",
       "      <th>fff0f82159f9083f3dd1f8967fc54f6a</th>\n",
       "      <td>False</td>\n",
       "      <td>False</td>\n",
       "      <td>False</td>\n",
       "      <td>False</td>\n",
       "      <td>False</td>\n",
       "      <td>False</td>\n",
       "      <td>False</td>\n",
       "      <td>False</td>\n",
       "      <td>False</td>\n",
       "      <td>False</td>\n",
       "      <td>...</td>\n",
       "      <td>False</td>\n",
       "      <td>False</td>\n",
       "      <td>False</td>\n",
       "      <td>False</td>\n",
       "      <td>False</td>\n",
       "      <td>False</td>\n",
       "      <td>False</td>\n",
       "      <td>False</td>\n",
       "      <td>False</td>\n",
       "      <td>True</td>\n",
       "    </tr>\n",
       "    <tr>\n",
       "      <th>fff2025e3c1d6970a8a6ee0404ac6940</th>\n",
       "      <td>False</td>\n",
       "      <td>False</td>\n",
       "      <td>False</td>\n",
       "      <td>False</td>\n",
       "      <td>False</td>\n",
       "      <td>False</td>\n",
       "      <td>False</td>\n",
       "      <td>False</td>\n",
       "      <td>False</td>\n",
       "      <td>False</td>\n",
       "      <td>...</td>\n",
       "      <td>False</td>\n",
       "      <td>False</td>\n",
       "      <td>False</td>\n",
       "      <td>False</td>\n",
       "      <td>False</td>\n",
       "      <td>False</td>\n",
       "      <td>False</td>\n",
       "      <td>False</td>\n",
       "      <td>False</td>\n",
       "      <td>True</td>\n",
       "    </tr>\n",
       "  </tbody>\n",
       "</table>\n",
       "<p>15000 rows × 28 columns</p>\n",
       "</div>"
      ],
      "text/plain": [
       "                                  Aortic enlargement  Atelectasis  \\\n",
       "image_id                                                            \n",
       "000434271f63a053c4128a0ba6352c7f               False        False   \n",
       "00053190460d56c53cc3e57321387478               False        False   \n",
       "0005e8e3701dfb1dd93d53e2ff537b6e               False        False   \n",
       "0006e0a85696f6bb578e84fafa9a5607               False        False   \n",
       "0007d316f756b3fa0baea2ff514ce945                True        False   \n",
       "...                                              ...          ...   \n",
       "ffe6f9fe648a7ec29a50feb92d6c15a4               False        False   \n",
       "ffea246f04196af602c7dc123e5e48fc               False        False   \n",
       "ffeffc54594debf3716d6fcd2402a99f                True        False   \n",
       "fff0f82159f9083f3dd1f8967fc54f6a               False        False   \n",
       "fff2025e3c1d6970a8a6ee0404ac6940               False        False   \n",
       "\n",
       "                                  Calcification  Cardiomegaly  \\\n",
       "image_id                                                        \n",
       "000434271f63a053c4128a0ba6352c7f          False         False   \n",
       "00053190460d56c53cc3e57321387478          False         False   \n",
       "0005e8e3701dfb1dd93d53e2ff537b6e          False         False   \n",
       "0006e0a85696f6bb578e84fafa9a5607          False         False   \n",
       "0007d316f756b3fa0baea2ff514ce945          False         False   \n",
       "...                                         ...           ...   \n",
       "ffe6f9fe648a7ec29a50feb92d6c15a4          False          True   \n",
       "ffea246f04196af602c7dc123e5e48fc          False         False   \n",
       "ffeffc54594debf3716d6fcd2402a99f          False         False   \n",
       "fff0f82159f9083f3dd1f8967fc54f6a          False         False   \n",
       "fff2025e3c1d6970a8a6ee0404ac6940          False         False   \n",
       "\n",
       "                                  Clavicle fracture  Consolidation  Edema  \\\n",
       "image_id                                                                    \n",
       "000434271f63a053c4128a0ba6352c7f              False          False  False   \n",
       "00053190460d56c53cc3e57321387478              False          False  False   \n",
       "0005e8e3701dfb1dd93d53e2ff537b6e              False          False  False   \n",
       "0006e0a85696f6bb578e84fafa9a5607              False          False  False   \n",
       "0007d316f756b3fa0baea2ff514ce945              False          False  False   \n",
       "...                                             ...            ...    ...   \n",
       "ffe6f9fe648a7ec29a50feb92d6c15a4              False          False  False   \n",
       "ffea246f04196af602c7dc123e5e48fc              False          False  False   \n",
       "ffeffc54594debf3716d6fcd2402a99f              False          False  False   \n",
       "fff0f82159f9083f3dd1f8967fc54f6a              False          False  False   \n",
       "fff2025e3c1d6970a8a6ee0404ac6940              False          False  False   \n",
       "\n",
       "                                  Emphysema  Enlarged PA    ILD  ...  \\\n",
       "image_id                                                         ...   \n",
       "000434271f63a053c4128a0ba6352c7f      False        False  False  ...   \n",
       "00053190460d56c53cc3e57321387478      False        False  False  ...   \n",
       "0005e8e3701dfb1dd93d53e2ff537b6e      False        False  False  ...   \n",
       "0006e0a85696f6bb578e84fafa9a5607      False        False  False  ...   \n",
       "0007d316f756b3fa0baea2ff514ce945      False        False  False  ...   \n",
       "...                                     ...          ...    ...  ...   \n",
       "ffe6f9fe648a7ec29a50feb92d6c15a4      False        False  False  ...   \n",
       "ffea246f04196af602c7dc123e5e48fc      False        False  False  ...   \n",
       "ffeffc54594debf3716d6fcd2402a99f      False        False  False  ...   \n",
       "fff0f82159f9083f3dd1f8967fc54f6a      False        False  False  ...   \n",
       "fff2025e3c1d6970a8a6ee0404ac6940      False        False  False  ...   \n",
       "\n",
       "                                  Pneumothorax  Pulmonary fibrosis  \\\n",
       "image_id                                                             \n",
       "000434271f63a053c4128a0ba6352c7f         False               False   \n",
       "00053190460d56c53cc3e57321387478         False               False   \n",
       "0005e8e3701dfb1dd93d53e2ff537b6e         False               False   \n",
       "0006e0a85696f6bb578e84fafa9a5607         False               False   \n",
       "0007d316f756b3fa0baea2ff514ce945         False                True   \n",
       "...                                        ...                 ...   \n",
       "ffe6f9fe648a7ec29a50feb92d6c15a4         False               False   \n",
       "ffea246f04196af602c7dc123e5e48fc         False               False   \n",
       "ffeffc54594debf3716d6fcd2402a99f         False               False   \n",
       "fff0f82159f9083f3dd1f8967fc54f6a         False               False   \n",
       "fff2025e3c1d6970a8a6ee0404ac6940         False               False   \n",
       "\n",
       "                                  Rib fracture  Other lesion   COPD  \\\n",
       "image_id                                                              \n",
       "000434271f63a053c4128a0ba6352c7f         False         False  False   \n",
       "00053190460d56c53cc3e57321387478         False         False  False   \n",
       "0005e8e3701dfb1dd93d53e2ff537b6e         False         False  False   \n",
       "0006e0a85696f6bb578e84fafa9a5607         False         False  False   \n",
       "0007d316f756b3fa0baea2ff514ce945         False         False  False   \n",
       "...                                        ...           ...    ...   \n",
       "ffe6f9fe648a7ec29a50feb92d6c15a4         False         False  False   \n",
       "ffea246f04196af602c7dc123e5e48fc         False         False  False   \n",
       "ffeffc54594debf3716d6fcd2402a99f         False         False  False   \n",
       "fff0f82159f9083f3dd1f8967fc54f6a         False         False  False   \n",
       "fff2025e3c1d6970a8a6ee0404ac6940         False         False  False   \n",
       "\n",
       "                                  Lung tumor  Pneumonia  Tuberculosis  \\\n",
       "image_id                                                                \n",
       "000434271f63a053c4128a0ba6352c7f       False      False         False   \n",
       "00053190460d56c53cc3e57321387478       False      False         False   \n",
       "0005e8e3701dfb1dd93d53e2ff537b6e        True       True          True   \n",
       "0006e0a85696f6bb578e84fafa9a5607       False      False         False   \n",
       "0007d316f756b3fa0baea2ff514ce945       False      False         False   \n",
       "...                                      ...        ...           ...   \n",
       "ffe6f9fe648a7ec29a50feb92d6c15a4       False      False         False   \n",
       "ffea246f04196af602c7dc123e5e48fc       False      False         False   \n",
       "ffeffc54594debf3716d6fcd2402a99f       False      False         False   \n",
       "fff0f82159f9083f3dd1f8967fc54f6a       False      False         False   \n",
       "fff2025e3c1d6970a8a6ee0404ac6940       False      False         False   \n",
       "\n",
       "                                  Other diseases  No finding  \n",
       "image_id                                                      \n",
       "000434271f63a053c4128a0ba6352c7f           False        True  \n",
       "00053190460d56c53cc3e57321387478           False        True  \n",
       "0005e8e3701dfb1dd93d53e2ff537b6e           False       False  \n",
       "0006e0a85696f6bb578e84fafa9a5607           False        True  \n",
       "0007d316f756b3fa0baea2ff514ce945            True       False  \n",
       "...                                          ...         ...  \n",
       "ffe6f9fe648a7ec29a50feb92d6c15a4            True       False  \n",
       "ffea246f04196af602c7dc123e5e48fc           False        True  \n",
       "ffeffc54594debf3716d6fcd2402a99f            True       False  \n",
       "fff0f82159f9083f3dd1f8967fc54f6a           False        True  \n",
       "fff2025e3c1d6970a8a6ee0404ac6940           False        True  \n",
       "\n",
       "[15000 rows x 28 columns]"
      ]
     },
     "execution_count": 7,
     "metadata": {},
     "output_type": "execute_result"
    }
   ],
   "source": [
    "# aggregate labels for each image by majority voting across multiple annotations\n",
    "train_labels_df_agg = train_labels_df.drop('rad_id', axis=1).groupby('image_id').mean() > 0.5\n",
    "train_labels_df_agg"
   ]
  },
  {
   "cell_type": "markdown",
   "metadata": {},
   "source": [
    "Обратите внимание на то, что на одном изображении может быть выявлено больше одной патологии:"
   ]
  },
  {
   "cell_type": "code",
   "execution_count": 8,
   "metadata": {},
   "outputs": [
    {
     "data": {
      "text/plain": [
       "image_id\n",
       "000434271f63a053c4128a0ba6352c7f    False\n",
       "00053190460d56c53cc3e57321387478    False\n",
       "0005e8e3701dfb1dd93d53e2ff537b6e     True\n",
       "0006e0a85696f6bb578e84fafa9a5607    False\n",
       "0007d316f756b3fa0baea2ff514ce945     True\n",
       "                                    ...  \n",
       "ffe6f9fe648a7ec29a50feb92d6c15a4     True\n",
       "ffea246f04196af602c7dc123e5e48fc    False\n",
       "ffeffc54594debf3716d6fcd2402a99f     True\n",
       "fff0f82159f9083f3dd1f8967fc54f6a    False\n",
       "fff2025e3c1d6970a8a6ee0404ac6940    False\n",
       "Length: 15000, dtype: bool"
      ]
     },
     "execution_count": 8,
     "metadata": {},
     "output_type": "execute_result"
    }
   ],
   "source": [
    "train_labels_df_agg.sum(axis=1) > 1"
   ]
  },
  {
   "cell_type": "markdown",
   "metadata": {},
   "source": [
    "Другими словами, патологи не являются взаимоисключающими, поэтому для каждой патологии мы будем обучать отдельный бинарный классификатор.\n",
    "\n",
    "Оценим встречаемость каждой патологии на тренировочной выборке:"
   ]
  },
  {
   "cell_type": "code",
   "execution_count": 9,
   "metadata": {},
   "outputs": [
    {
     "data": {
      "text/plain": [
       "Aortic enlargement    0.156400\n",
       "Atelectasis           0.004133\n",
       "Calcification         0.011800\n",
       "Cardiomegaly          0.121133\n",
       "Clavicle fracture     0.000067\n",
       "Consolidation         0.008067\n",
       "Edema                 0.000067\n",
       "Emphysema             0.000933\n",
       "Enlarged PA           0.001400\n",
       "ILD                   0.010133\n",
       "Infiltration          0.016333\n",
       "Lung Opacity          0.036467\n",
       "Lung cavity           0.001333\n",
       "Lung cyst             0.000267\n",
       "Mediastinal shift     0.005667\n",
       "Nodule/Mass           0.027267\n",
       "Pleural effusion      0.042267\n",
       "Pleural thickening    0.058800\n",
       "Pneumothorax          0.003867\n",
       "Pulmonary fibrosis    0.067800\n",
       "Rib fracture          0.002733\n",
       "Other lesion          0.024133\n",
       "COPD                  0.000467\n",
       "Lung tumor            0.008933\n",
       "Pneumonia             0.031400\n",
       "Tuberculosis          0.032133\n",
       "Other diseases        0.266867\n",
       "No finding            0.706733\n",
       "dtype: float64"
      ]
     },
     "execution_count": 9,
     "metadata": {},
     "output_type": "execute_result"
    }
   ],
   "source": [
    "# estimate prevalences\n",
    "prevalences = train_labels_df_agg.mean(axis=0)\n",
    "prevalences"
   ]
  },
  {
   "cell_type": "markdown",
   "metadata": {},
   "source": [
    "Мы видим, что большая часть патологий встречается довольно редко.\n",
    "\n",
    "В условиях несбалансированности классов, в качестве лосс-функции для обучения модели обычно используют взвешенную бинарную кросс-энтропию. Согласно [документации](https://pytorch.org/docs/stable/generated/torch.nn.BCEWithLogitsLoss.html) `torch.nn.BCEWithLogitsLoss`:\n",
    "\n",
    "> For example, if a dataset contains $100$ positive and $300$ negative examples of a single class, then `pos_weight` for the class should be equal to $\\frac{300}{100} = 3$.\n",
    "\n",
    "Давайте подсчитаем эти веса для каждой патологии:"
   ]
  },
  {
   "cell_type": "code",
   "execution_count": 10,
   "metadata": {},
   "outputs": [],
   "source": [
    "LABELS = list(train_labels_df_agg.columns)\n",
    "POS_WEIGHTS = list((1 - prevalences) / prevalences)"
   ]
  },
  {
   "cell_type": "markdown",
   "metadata": {},
   "source": [
    "Теперь давайте посмотрим на таблицу с тестовыми метками:"
   ]
  },
  {
   "cell_type": "code",
   "execution_count": 11,
   "metadata": {},
   "outputs": [
    {
     "data": {
      "text/html": [
       "<div>\n",
       "<style scoped>\n",
       "    .dataframe tbody tr th:only-of-type {\n",
       "        vertical-align: middle;\n",
       "    }\n",
       "\n",
       "    .dataframe tbody tr th {\n",
       "        vertical-align: top;\n",
       "    }\n",
       "\n",
       "    .dataframe thead th {\n",
       "        text-align: right;\n",
       "    }\n",
       "</style>\n",
       "<table border=\"1\" class=\"dataframe\">\n",
       "  <thead>\n",
       "    <tr style=\"text-align: right;\">\n",
       "      <th></th>\n",
       "      <th>image_id</th>\n",
       "      <th>Aortic enlargement</th>\n",
       "      <th>Atelectasis</th>\n",
       "      <th>Calcification</th>\n",
       "      <th>Cardiomegaly</th>\n",
       "      <th>Clavicle fracture</th>\n",
       "      <th>Consolidation</th>\n",
       "      <th>Edema</th>\n",
       "      <th>Emphysema</th>\n",
       "      <th>Enlarged PA</th>\n",
       "      <th>...</th>\n",
       "      <th>Pneumothorax</th>\n",
       "      <th>Pulmonary fibrosis</th>\n",
       "      <th>Rib fracture</th>\n",
       "      <th>Other lesion</th>\n",
       "      <th>COPD</th>\n",
       "      <th>Lung tumor</th>\n",
       "      <th>Pneumonia</th>\n",
       "      <th>Tuberculosis</th>\n",
       "      <th>Other disease</th>\n",
       "      <th>No finding</th>\n",
       "    </tr>\n",
       "  </thead>\n",
       "  <tbody>\n",
       "    <tr>\n",
       "      <th>0</th>\n",
       "      <td>e0dc2e79105ad93532484e956ef8a71a</td>\n",
       "      <td>0</td>\n",
       "      <td>1</td>\n",
       "      <td>1</td>\n",
       "      <td>1</td>\n",
       "      <td>0</td>\n",
       "      <td>0</td>\n",
       "      <td>0</td>\n",
       "      <td>0</td>\n",
       "      <td>0</td>\n",
       "      <td>...</td>\n",
       "      <td>1</td>\n",
       "      <td>0</td>\n",
       "      <td>0</td>\n",
       "      <td>0</td>\n",
       "      <td>0</td>\n",
       "      <td>0</td>\n",
       "      <td>1</td>\n",
       "      <td>0</td>\n",
       "      <td>1</td>\n",
       "      <td>0</td>\n",
       "    </tr>\n",
       "    <tr>\n",
       "      <th>1</th>\n",
       "      <td>0aed23e64ebdea798486056b4f174424</td>\n",
       "      <td>0</td>\n",
       "      <td>0</td>\n",
       "      <td>0</td>\n",
       "      <td>0</td>\n",
       "      <td>0</td>\n",
       "      <td>1</td>\n",
       "      <td>0</td>\n",
       "      <td>0</td>\n",
       "      <td>0</td>\n",
       "      <td>...</td>\n",
       "      <td>0</td>\n",
       "      <td>0</td>\n",
       "      <td>0</td>\n",
       "      <td>0</td>\n",
       "      <td>0</td>\n",
       "      <td>0</td>\n",
       "      <td>1</td>\n",
       "      <td>0</td>\n",
       "      <td>0</td>\n",
       "      <td>0</td>\n",
       "    </tr>\n",
       "    <tr>\n",
       "      <th>2</th>\n",
       "      <td>aa15cfcfca7605465ca0513902738b95</td>\n",
       "      <td>0</td>\n",
       "      <td>0</td>\n",
       "      <td>0</td>\n",
       "      <td>0</td>\n",
       "      <td>0</td>\n",
       "      <td>0</td>\n",
       "      <td>0</td>\n",
       "      <td>0</td>\n",
       "      <td>0</td>\n",
       "      <td>...</td>\n",
       "      <td>0</td>\n",
       "      <td>1</td>\n",
       "      <td>0</td>\n",
       "      <td>0</td>\n",
       "      <td>0</td>\n",
       "      <td>0</td>\n",
       "      <td>0</td>\n",
       "      <td>1</td>\n",
       "      <td>0</td>\n",
       "      <td>0</td>\n",
       "    </tr>\n",
       "    <tr>\n",
       "      <th>3</th>\n",
       "      <td>665c4a6d2693dc0286d65ab479c9b169</td>\n",
       "      <td>0</td>\n",
       "      <td>0</td>\n",
       "      <td>0</td>\n",
       "      <td>0</td>\n",
       "      <td>0</td>\n",
       "      <td>0</td>\n",
       "      <td>0</td>\n",
       "      <td>0</td>\n",
       "      <td>0</td>\n",
       "      <td>...</td>\n",
       "      <td>0</td>\n",
       "      <td>0</td>\n",
       "      <td>0</td>\n",
       "      <td>0</td>\n",
       "      <td>0</td>\n",
       "      <td>1</td>\n",
       "      <td>0</td>\n",
       "      <td>0</td>\n",
       "      <td>0</td>\n",
       "      <td>0</td>\n",
       "    </tr>\n",
       "    <tr>\n",
       "      <th>4</th>\n",
       "      <td>42da2c134b53cb5594774d3d29faac59</td>\n",
       "      <td>1</td>\n",
       "      <td>0</td>\n",
       "      <td>1</td>\n",
       "      <td>1</td>\n",
       "      <td>0</td>\n",
       "      <td>0</td>\n",
       "      <td>0</td>\n",
       "      <td>0</td>\n",
       "      <td>0</td>\n",
       "      <td>...</td>\n",
       "      <td>0</td>\n",
       "      <td>0</td>\n",
       "      <td>0</td>\n",
       "      <td>0</td>\n",
       "      <td>0</td>\n",
       "      <td>0</td>\n",
       "      <td>0</td>\n",
       "      <td>0</td>\n",
       "      <td>1</td>\n",
       "      <td>0</td>\n",
       "    </tr>\n",
       "    <tr>\n",
       "      <th>...</th>\n",
       "      <td>...</td>\n",
       "      <td>...</td>\n",
       "      <td>...</td>\n",
       "      <td>...</td>\n",
       "      <td>...</td>\n",
       "      <td>...</td>\n",
       "      <td>...</td>\n",
       "      <td>...</td>\n",
       "      <td>...</td>\n",
       "      <td>...</td>\n",
       "      <td>...</td>\n",
       "      <td>...</td>\n",
       "      <td>...</td>\n",
       "      <td>...</td>\n",
       "      <td>...</td>\n",
       "      <td>...</td>\n",
       "      <td>...</td>\n",
       "      <td>...</td>\n",
       "      <td>...</td>\n",
       "      <td>...</td>\n",
       "      <td>...</td>\n",
       "    </tr>\n",
       "    <tr>\n",
       "      <th>2995</th>\n",
       "      <td>a039af299f86007d0d77da077a6def9a</td>\n",
       "      <td>0</td>\n",
       "      <td>0</td>\n",
       "      <td>0</td>\n",
       "      <td>0</td>\n",
       "      <td>0</td>\n",
       "      <td>0</td>\n",
       "      <td>0</td>\n",
       "      <td>0</td>\n",
       "      <td>0</td>\n",
       "      <td>...</td>\n",
       "      <td>0</td>\n",
       "      <td>0</td>\n",
       "      <td>0</td>\n",
       "      <td>0</td>\n",
       "      <td>0</td>\n",
       "      <td>0</td>\n",
       "      <td>0</td>\n",
       "      <td>0</td>\n",
       "      <td>0</td>\n",
       "      <td>1</td>\n",
       "    </tr>\n",
       "    <tr>\n",
       "      <th>2996</th>\n",
       "      <td>aba3d1f5b1c04236f52a8980929b2cfa</td>\n",
       "      <td>0</td>\n",
       "      <td>0</td>\n",
       "      <td>0</td>\n",
       "      <td>0</td>\n",
       "      <td>0</td>\n",
       "      <td>0</td>\n",
       "      <td>0</td>\n",
       "      <td>0</td>\n",
       "      <td>0</td>\n",
       "      <td>...</td>\n",
       "      <td>0</td>\n",
       "      <td>0</td>\n",
       "      <td>0</td>\n",
       "      <td>0</td>\n",
       "      <td>0</td>\n",
       "      <td>0</td>\n",
       "      <td>0</td>\n",
       "      <td>0</td>\n",
       "      <td>0</td>\n",
       "      <td>1</td>\n",
       "    </tr>\n",
       "    <tr>\n",
       "      <th>2997</th>\n",
       "      <td>6d3d6b53f358a983b486e9e03144eb62</td>\n",
       "      <td>0</td>\n",
       "      <td>0</td>\n",
       "      <td>0</td>\n",
       "      <td>0</td>\n",
       "      <td>0</td>\n",
       "      <td>0</td>\n",
       "      <td>0</td>\n",
       "      <td>0</td>\n",
       "      <td>0</td>\n",
       "      <td>...</td>\n",
       "      <td>0</td>\n",
       "      <td>0</td>\n",
       "      <td>0</td>\n",
       "      <td>0</td>\n",
       "      <td>0</td>\n",
       "      <td>0</td>\n",
       "      <td>0</td>\n",
       "      <td>0</td>\n",
       "      <td>0</td>\n",
       "      <td>1</td>\n",
       "    </tr>\n",
       "    <tr>\n",
       "      <th>2998</th>\n",
       "      <td>d6678cb7ae39f575d35ab9da6d7cb171</td>\n",
       "      <td>0</td>\n",
       "      <td>0</td>\n",
       "      <td>0</td>\n",
       "      <td>0</td>\n",
       "      <td>0</td>\n",
       "      <td>0</td>\n",
       "      <td>0</td>\n",
       "      <td>0</td>\n",
       "      <td>0</td>\n",
       "      <td>...</td>\n",
       "      <td>0</td>\n",
       "      <td>0</td>\n",
       "      <td>0</td>\n",
       "      <td>0</td>\n",
       "      <td>0</td>\n",
       "      <td>0</td>\n",
       "      <td>0</td>\n",
       "      <td>0</td>\n",
       "      <td>0</td>\n",
       "      <td>1</td>\n",
       "    </tr>\n",
       "    <tr>\n",
       "      <th>2999</th>\n",
       "      <td>e82d33dfd04d95c61d8d133dcbf29691</td>\n",
       "      <td>0</td>\n",
       "      <td>0</td>\n",
       "      <td>0</td>\n",
       "      <td>0</td>\n",
       "      <td>0</td>\n",
       "      <td>0</td>\n",
       "      <td>0</td>\n",
       "      <td>0</td>\n",
       "      <td>0</td>\n",
       "      <td>...</td>\n",
       "      <td>0</td>\n",
       "      <td>0</td>\n",
       "      <td>0</td>\n",
       "      <td>0</td>\n",
       "      <td>0</td>\n",
       "      <td>0</td>\n",
       "      <td>0</td>\n",
       "      <td>0</td>\n",
       "      <td>0</td>\n",
       "      <td>1</td>\n",
       "    </tr>\n",
       "  </tbody>\n",
       "</table>\n",
       "<p>3000 rows × 29 columns</p>\n",
       "</div>"
      ],
      "text/plain": [
       "                              image_id  Aortic enlargement  Atelectasis  \\\n",
       "0     e0dc2e79105ad93532484e956ef8a71a                   0            1   \n",
       "1     0aed23e64ebdea798486056b4f174424                   0            0   \n",
       "2     aa15cfcfca7605465ca0513902738b95                   0            0   \n",
       "3     665c4a6d2693dc0286d65ab479c9b169                   0            0   \n",
       "4     42da2c134b53cb5594774d3d29faac59                   1            0   \n",
       "...                                ...                 ...          ...   \n",
       "2995  a039af299f86007d0d77da077a6def9a                   0            0   \n",
       "2996  aba3d1f5b1c04236f52a8980929b2cfa                   0            0   \n",
       "2997  6d3d6b53f358a983b486e9e03144eb62                   0            0   \n",
       "2998  d6678cb7ae39f575d35ab9da6d7cb171                   0            0   \n",
       "2999  e82d33dfd04d95c61d8d133dcbf29691                   0            0   \n",
       "\n",
       "      Calcification  Cardiomegaly  Clavicle fracture  Consolidation  Edema  \\\n",
       "0                 1             1                  0              0      0   \n",
       "1                 0             0                  0              1      0   \n",
       "2                 0             0                  0              0      0   \n",
       "3                 0             0                  0              0      0   \n",
       "4                 1             1                  0              0      0   \n",
       "...             ...           ...                ...            ...    ...   \n",
       "2995              0             0                  0              0      0   \n",
       "2996              0             0                  0              0      0   \n",
       "2997              0             0                  0              0      0   \n",
       "2998              0             0                  0              0      0   \n",
       "2999              0             0                  0              0      0   \n",
       "\n",
       "      Emphysema  Enlarged PA  ...  Pneumothorax  Pulmonary fibrosis  \\\n",
       "0             0            0  ...             1                   0   \n",
       "1             0            0  ...             0                   0   \n",
       "2             0            0  ...             0                   1   \n",
       "3             0            0  ...             0                   0   \n",
       "4             0            0  ...             0                   0   \n",
       "...         ...          ...  ...           ...                 ...   \n",
       "2995          0            0  ...             0                   0   \n",
       "2996          0            0  ...             0                   0   \n",
       "2997          0            0  ...             0                   0   \n",
       "2998          0            0  ...             0                   0   \n",
       "2999          0            0  ...             0                   0   \n",
       "\n",
       "      Rib fracture  Other lesion  COPD  Lung tumor  Pneumonia  Tuberculosis  \\\n",
       "0                0             0     0           0          1             0   \n",
       "1                0             0     0           0          1             0   \n",
       "2                0             0     0           0          0             1   \n",
       "3                0             0     0           1          0             0   \n",
       "4                0             0     0           0          0             0   \n",
       "...            ...           ...   ...         ...        ...           ...   \n",
       "2995             0             0     0           0          0             0   \n",
       "2996             0             0     0           0          0             0   \n",
       "2997             0             0     0           0          0             0   \n",
       "2998             0             0     0           0          0             0   \n",
       "2999             0             0     0           0          0             0   \n",
       "\n",
       "      Other disease  No finding  \n",
       "0                 1           0  \n",
       "1                 0           0  \n",
       "2                 0           0  \n",
       "3                 0           0  \n",
       "4                 1           0  \n",
       "...             ...         ...  \n",
       "2995              0           1  \n",
       "2996              0           1  \n",
       "2997              0           1  \n",
       "2998              0           1  \n",
       "2999              0           1  \n",
       "\n",
       "[3000 rows x 29 columns]"
      ]
     },
     "execution_count": 11,
     "metadata": {},
     "output_type": "execute_result"
    }
   ],
   "source": [
    "test_labels_df = pd.read_csv(VINDRCXR_DIRPATH / 'annotations' / 'image_labels_test.csv')\n",
    "test_labels_df"
   ]
  },
  {
   "cell_type": "markdown",
   "metadata": {},
   "source": [
    "Обратите внимание, что в тестовой таблице на каждое изображение приходится только одна разметка.\n",
    "\n",
    "Также обратите внимание, что в тестовой выборке нет ни одного положительного примера для патологии `Edema`:"
   ]
  },
  {
   "cell_type": "code",
   "execution_count": 12,
   "metadata": {},
   "outputs": [
    {
     "data": {
      "text/plain": [
       "Aortic enlargement     True\n",
       "Atelectasis            True\n",
       "Calcification          True\n",
       "Cardiomegaly           True\n",
       "Clavicle fracture      True\n",
       "Consolidation          True\n",
       "Edema                 False\n",
       "Emphysema              True\n",
       "Enlarged PA            True\n",
       "ILD                    True\n",
       "Infiltration           True\n",
       "Lung Opacity           True\n",
       "Lung cavity            True\n",
       "Lung cyst              True\n",
       "Mediastinal shift      True\n",
       "Nodule/Mass            True\n",
       "Pleural effusion       True\n",
       "Pleural thickening     True\n",
       "Pneumothorax           True\n",
       "Pulmonary fibrosis     True\n",
       "Rib fracture           True\n",
       "Other lesion           True\n",
       "COPD                   True\n",
       "Lung tumor             True\n",
       "Pneumonia              True\n",
       "Tuberculosis           True\n",
       "Other diseases         True\n",
       "No finding             True\n",
       "dtype: bool"
      ]
     },
     "execution_count": 12,
     "metadata": {},
     "output_type": "execute_result"
    }
   ],
   "source": [
    "test_labels_df.rename(columns={'Other disease': 'Other diseases'})[LABELS].any(axis=0)"
   ]
  },
  {
   "cell_type": "markdown",
   "metadata": {},
   "source": [
    "Из-за этого мы не можем посчитать AUROC для этой патологии и не обучаем для нее классификатор:"
   ]
  },
  {
   "cell_type": "code",
   "execution_count": 13,
   "metadata": {},
   "outputs": [],
   "source": [
    "POS_WEIGHTS.pop(LABELS.index('Edema'))\n",
    "LABELS.remove('Edema')"
   ]
  },
  {
   "cell_type": "markdown",
   "metadata": {},
   "source": [
    "### 1.3. Предобработка изображений\n",
    "\n",
    "\n",
    "Как было замечено выше, исходные изображения имеют очень высокое разрешение. Для того чтобы подгрузка и предобработка изображений не занимала много времени в течение обучения, мы предобрабатываем их заранее и сохраняем на диск в меньшем разрешении, в формате PNG:"
   ]
  },
  {
   "cell_type": "code",
   "execution_count": 1,
   "metadata": {},
   "outputs": [
    {
     "ename": "NameError",
     "evalue": "name 'Literal' is not defined",
     "output_type": "error",
     "traceback": [
      "\u001b[1;31m---------------------------------------------------------------------------\u001b[0m",
      "\u001b[1;31mNameError\u001b[0m                                 Traceback (most recent call last)",
      "Cell \u001b[1;32mIn[1], line 1\u001b[0m\n\u001b[1;32m----> 1\u001b[0m \u001b[38;5;28;01mdef\u001b[39;00m \u001b[38;5;21mpreprocess_image\u001b[39m(image_id: \u001b[38;5;28mstr\u001b[39m, split: \u001b[43mLiteral\u001b[49m[\u001b[38;5;124m'\u001b[39m\u001b[38;5;124mtrain\u001b[39m\u001b[38;5;124m'\u001b[39m, \u001b[38;5;124m'\u001b[39m\u001b[38;5;124mtest\u001b[39m\u001b[38;5;124m'\u001b[39m]) \u001b[38;5;241m-\u001b[39m\u001b[38;5;241m>\u001b[39m \u001b[38;5;28;01mNone\u001b[39;00m:\n\u001b[0;32m      2\u001b[0m     dicom_filepath \u001b[38;5;241m=\u001b[39m VINDRCXR_DIRPATH \u001b[38;5;241m/\u001b[39m split \u001b[38;5;241m/\u001b[39m \u001b[38;5;124mf\u001b[39m\u001b[38;5;124m'\u001b[39m\u001b[38;5;132;01m{\u001b[39;00mimage_id\u001b[38;5;132;01m}\u001b[39;00m\u001b[38;5;124m.dicom\u001b[39m\u001b[38;5;124m'\u001b[39m\n\u001b[0;32m      3\u001b[0m     png_filepath \u001b[38;5;241m=\u001b[39m VINDRCXR_DIRPATH \u001b[38;5;241m/\u001b[39m \u001b[38;5;124mf\u001b[39m\u001b[38;5;124m'\u001b[39m\u001b[38;5;132;01m{\u001b[39;00msplit\u001b[38;5;132;01m}\u001b[39;00m\u001b[38;5;124m_png\u001b[39m\u001b[38;5;124m'\u001b[39m \u001b[38;5;241m/\u001b[39m \u001b[38;5;124mf\u001b[39m\u001b[38;5;124m'\u001b[39m\u001b[38;5;132;01m{\u001b[39;00mimage_id\u001b[38;5;132;01m}\u001b[39;00m\u001b[38;5;124m.png\u001b[39m\u001b[38;5;124m'\u001b[39m\n",
      "\u001b[1;31mNameError\u001b[0m: name 'Literal' is not defined"
     ]
    }
   ],
   "source": [
    "def preprocess_image(image_id: str, split: Literal['train', 'test']) -> None:\n",
    "    dicom_filepath = VINDRCXR_DIRPATH / split / f'{image_id}.dicom'\n",
    "    png_filepath = VINDRCXR_DIRPATH / f'{split}_png' / f'{image_id}.png'\n",
    "    if png_filepath.exists():\n",
    "        return\n",
    "\n",
    "    dicom = pydicom.dcmread(dicom_filepath)\n",
    "    image = ImageProcessor.preprocess_dicom(dicom)\n",
    "    image.save(png_filepath)\n",
    "\n",
    "\n",
    "preprocess_train_image = partial(preprocess_image, split='train')\n",
    "train_image_ids = [image_filepath.name[:-len('.dicom')] for image_filepath in (VINDRCXR_DIRPATH / 'train').iterdir()]\n",
    "(VINDRCXR_DIRPATH / 'train_png').mkdir(exist_ok=True)\n",
    "with Pool(NUM_WORKERS) as p:\n",
    "    _ = list(tqdm(p.imap(preprocess_train_image, train_image_ids), total=len(train_image_ids)))\n",
    "\n",
    "\n",
    "preprocess_test_image = partial(preprocess_image, split='test')\n",
    "test_image_ids = [image_filepath.name[:-len('.dicom')] for image_filepath in (VINDRCXR_DIRPATH / 'test').iterdir()]\n",
    "(VINDRCXR_DIRPATH / 'test_png').mkdir(exist_ok=True)\n",
    "with Pool(NUM_WORKERS) as p:\n",
    "    _ = list(tqdm(p.imap(preprocess_test_image, test_image_ids), total=len(test_image_ids)))\n"
   ]
  },
  {
   "cell_type": "markdown",
   "metadata": {},
   "source": [
    "### 1.4. Интерфейсы для подгрузки данных\n",
    "\n",
    "Мы имплементируем стандартные классы основанные на `torch.utils.data.Dataset` и `lightning.pytorch.Datamodule` для подгрузки данных во время обучения и валидации.\n",
    "\n",
    "Класс `torch.utils.data.Dataset` отвечает за подгрузку, препроцессинг и аугментации одиночных примеров:\n",
    " "
   ]
  },
  {
   "cell_type": "code",
   "execution_count": 15,
   "metadata": {},
   "outputs": [],
   "source": [
    "class VINDRCXRDataset(Dataset):\n",
    "    def __init__(\n",
    "            self,\n",
    "            vindrcxr_dirpath: str | Path,\n",
    "            split: Literal['train', 'test'],\n",
    "            image_transform: Callable[[Image], torch.Tensor]\n",
    "    ) -> None:\n",
    "        super().__init__()\n",
    "\n",
    "        vindrcxr_dirpath = Path(vindrcxr_dirpath)\n",
    "\n",
    "        if split == 'train':\n",
    "            images_dirpath = vindrcxr_dirpath / 'train_png'\n",
    "            labels_df = pd.read_csv(vindrcxr_dirpath / 'annotations' / 'image_labels_train.csv')\n",
    "        elif split == 'test':\n",
    "            images_dirpath = Path(vindrcxr_dirpath / 'test_png')\n",
    "            labels_df = pd.read_csv(vindrcxr_dirpath / 'annotations' / 'image_labels_test.csv')\n",
    "            labels_df = labels_df.rename(columns={'Other disease': 'Other diseases'})\n",
    "        else:\n",
    "            raise ValueError(split)\n",
    "\n",
    "        self.images_dirpath = images_dirpath\n",
    "        self.labels_df = labels_df\n",
    "        self.ids = sorted(set(labels_df.image_id))\n",
    "        self.split = split\n",
    "        self.image_transform = image_transform\n",
    "\n",
    "    def __len__(self) -> int:\n",
    "        return len(self.ids)\n",
    "\n",
    "    def __getitem__(self, index: int) -> Any:\n",
    "        image_id = self.ids[index]\n",
    "\n",
    "        image_filepath = self.images_dirpath / f'{image_id}.png'\n",
    "        image = Image.open(image_filepath)\n",
    "        image = self.image_transform(image)\n",
    "\n",
    "        rows = self.labels_df[self.labels_df.image_id == image_id]\n",
    "        # majority voting\n",
    "        labels = np.array(rows[LABELS].mean(axis=0) > 0.5, dtype='int64')\n",
    "        labels = torch.from_numpy(labels)\n",
    "\n",
    "        return {\n",
    "            'image': image,\n",
    "            'labels': labels\n",
    "        }\n",
    "\n",
    "\n",
    "class TrainImageTransform:\n",
    "    def __init__(self) -> None:\n",
    "        self.transform = A.Compose([\n",
    "            A.ToFloat(max_value=255.),\n",
    "            A.Rotate(limit=10, p=0.5, border_mode=cv2.BORDER_CONSTANT, value=0.0),\n",
    "            A.RandomResizedCrop(size=ImageProcessor.image_size, scale=(0.5625, 1.0)),\n",
    "            A.HorizontalFlip(p=0.5),\n",
    "            A.RandomBrightnessContrast(brightness_limit=0.2, contrast_limit=0.2, p=0.8),\n",
    "            A.Normalize(mean=ImageProcessor.image_mean, std=ImageProcessor.image_std, max_pixel_value=1.0),\n",
    "            A.ToRGB(),\n",
    "            ToTensorV2(transpose_mask=True)\n",
    "        ])\n",
    "\n",
    "    def __call__(self, image: Image) -> torch.Tensor:\n",
    "        return self.transform(image=np.array(image))['image']\n",
    "\n",
    "\n",
    "class TestImageTransform:\n",
    "    def __init__(self) -> None:\n",
    "        self.image_processor = ImageProcessor()\n",
    "\n",
    "    def __call__(self, image: Image) -> torch.Tensor:\n",
    "        return self.image_processor(image).squeeze(0)"
   ]
  },
  {
   "cell_type": "markdown",
   "metadata": {},
   "source": [
    "Класс `lightning.pytorch.Datamodule` инкапсулирует логику разбиения датасета на обучающую и тестовую выборки и объекты типа `torch.utils.data.DataLoader`, которые отвечают за подгрузку батчей для обучения и валидации:"
   ]
  },
  {
   "cell_type": "code",
   "execution_count": 16,
   "metadata": {},
   "outputs": [],
   "source": [
    "class VinDrCXRDataModule(pl.LightningDataModule):\n",
    "    def __init__(\n",
    "            self,\n",
    "            vindrcxr_dirpath: str | Path,\n",
    "            train_image_transform: Callable[[Image], torch.Tensor],\n",
    "            test_image_transform: Callable[[Image], torch.Tensor],\n",
    "            batch_size: int = 96,\n",
    "            num_workers: int = 0,\n",
    "            pin_memory: bool = True,\n",
    "    ) -> None:\n",
    "        super().__init__()\n",
    "\n",
    "        self.vindrcxr_dirpath = vindrcxr_dirpath\n",
    "        self.train_image_transform = train_image_transform\n",
    "        self.test_image_transform = test_image_transform\n",
    "        self.batch_size = batch_size\n",
    "        self.num_workers = num_workers\n",
    "        self.pin_memory = pin_memory\n",
    "\n",
    "    def prepare_data(self) -> None:\n",
    "        \"\"\"Этот метод обычно используется для загрузки и подготовки датасета на диске.\n",
    "        Но мы уже скачали и предобработали датасет.\n",
    "        \"\"\"\n",
    "        pass\n",
    "\n",
    "    def setup(self, stage: Optional[str] = None) -> None:\n",
    "        self.train_dataset = VINDRCXRDataset(\n",
    "            vindrcxr_dirpath=self.vindrcxr_dirpath,\n",
    "            split='train',\n",
    "            image_transform=self.train_image_transform\n",
    "        )\n",
    "        self.val_dataset = self.test_dataset = VINDRCXRDataset(\n",
    "            vindrcxr_dirpath=self.vindrcxr_dirpath,\n",
    "            split='test',\n",
    "            image_transform=self.test_image_transform,\n",
    "        )\n",
    "    \n",
    "    def train_dataloader(self) -> DataLoader:\n",
    "        return DataLoader(\n",
    "            self.train_dataset,\n",
    "            batch_size=self.batch_size,\n",
    "            shuffle=True,\n",
    "            num_workers=self.num_workers,\n",
    "            pin_memory=self.pin_memory,\n",
    "        )\n",
    "\n",
    "    def val_dataloader(self) -> DataLoader:\n",
    "        return DataLoader(\n",
    "            self.val_dataset,\n",
    "            batch_size=self.batch_size,\n",
    "            num_workers=self.num_workers,\n",
    "            pin_memory=self.pin_memory,\n",
    "        )\n"
   ]
  },
  {
   "cell_type": "markdown",
   "metadata": {},
   "source": [
    "Давайте посмотрим как это работает:"
   ]
  },
  {
   "cell_type": "code",
   "execution_count": 17,
   "metadata": {},
   "outputs": [
    {
     "name": "stdout",
     "output_type": "stream",
     "text": [
      "Images: torch.Size([4, 3, 518, 518])\n",
      "Labels: torch.Size([4, 27])\n"
     ]
    }
   ],
   "source": [
    "datamodule = VinDrCXRDataModule(\n",
    "    vindrcxr_dirpath=VINDRCXR_DIRPATH,\n",
    "    train_image_transform=TrainImageTransform(),\n",
    "    test_image_transform=TestImageTransform(),\n",
    "    batch_size=4,\n",
    ")\n",
    "datamodule.prepare_data()\n",
    "datamodule.setup()\n",
    "\n",
    "for batch in datamodule.train_dataloader():\n",
    "    break\n",
    "\n",
    "print('Images:', batch['image'].shape)\n",
    "print('Labels:', batch['labels'].shape)"
   ]
  },
  {
   "cell_type": "markdown",
   "metadata": {},
   "source": [
    "## 2. Модели\n",
    "\n",
    "Для того, чтобы продемонстрировать преимущество Moonshot по сравнению с другими моделями, мы имплементируем две модели:  \n",
    "\n",
    "1. Классификатор на основе стандартного предобученного энкодера ResNet50.\n",
    "\n",
    "2. Классификатор на основе энкодера Moonshot.\n",
    "\n",
    "### 2.1. Энкодеры\n",
    "\n",
    "Энкодер - это основная часть нейросети, которая \"кодирует\" входное изображение в векторное представление. Затем, векторное представление подается на вход нескольким линейным классификаторам, которые предсказывают вероятности наличия патологий.\n",
    "\n",
    "Мы имплементируем однообразный интерфейс для двух энкодеров: Moonshot и ResNet50, чтобы затем сравнить классификаторы обученные на их основе:"
   ]
  },
  {
   "cell_type": "code",
   "execution_count": 18,
   "metadata": {},
   "outputs": [],
   "source": [
    "class ResNet50Encoder(nn.Module):\n",
    "    def __init__(self):\n",
    "        super().__init__()\n",
    "\n",
    "        self.model = resnet50(pretrained=True)\n",
    "        self.model.fc = nn.Identity()  # удаляем классификационную голову\n",
    "    \n",
    "    def forward(self, image: torch.Tensor) -> torch.Tensor:\n",
    "        return self.model(image)\n",
    "\n",
    "    @property\n",
    "    def out_dim(self) -> int:\n",
    "        return 2048\n",
    "\n",
    "\n",
    "class MoonshotEncoder(nn.Module):\n",
    "    def __init__(self,) -> None:\n",
    "        super().__init__()\n",
    "\n",
    "        self.model = moonshot(model_filepath=MOONSHOT_MODEL_FILEPATH)\n",
    "\n",
    "    def forward(self, image: torch.Tensor) -> torch.Tensor:\n",
    "        features = self.model.forward_features(image)\n",
    "        pooled_features = self.model.forward_head(features, pre_logits=True)\n",
    "        return pooled_features\n",
    "\n",
    "    @property\n",
    "    def out_dim(self) -> int:\n",
    "        return 1024\n"
   ]
  },
  {
   "cell_type": "markdown",
   "metadata": {},
   "source": [
    "### 2.2. Lightning module\n",
    "\n",
    "Теперь мы имплементируем класс `lightning.pytorch.LightningModule`, который инкапсулирует всю логику обучения классификаторов, на основе данного энкодера."
   ]
  },
  {
   "cell_type": "code",
   "execution_count": 19,
   "metadata": {},
   "outputs": [],
   "source": [
    "class MultilabelClassification(pl.LightningModule):\n",
    "    def __init__(\n",
    "            self,\n",
    "            encoder: nn.Module,\n",
    "            num_labels: int,\n",
    "            pos_weights: Optional[Sequence[float]] = None,\n",
    "            freeze_until_epoch: Optional[int] = None,\n",
    "            lr: float = 5e-5,\n",
    "            label_names: Optional[Sequence[str]] = None,\n",
    "    ) -> None:\n",
    "        \"\"\"Класс-наследник lightning.pytorch.LightningModule для классификации.\n",
    "\n",
    "        Args:\n",
    "            encoder (nn.Module):\n",
    "                Предобученный энкодер, который получает на вход изображение, и выдает эмбеддинг.\n",
    "            num_labels (int):\n",
    "                Количество меток, для которых мы обучаем бинарные классификаторы (в нашем случае метка - это патология).\n",
    "            pos_weights (Optional[Sequence[float]], optional):\n",
    "                Веса во взвешенной кросс-энтропии для каждого бинарного классификатора.\n",
    "            freeze_until_epoch (Optional[Union[int, float]], optional):\n",
    "                В течение первых `freeze_until_epoch` энкодер остается замороженным.\n",
    "                По умолчанию (`freeze_until_epoch=None`) энкодер размораживается с самой первой эпохи.\n",
    "                Если передать `freeze_until_epoch=float('inf')` энкодер будет заморожен в течение всего обучения.\n",
    "            lr (float, optional):\n",
    "                Learning rate.\n",
    "            label_names (Optional[Sequence[str]], optional):\n",
    "                Названия меток (в нашем случае 'Lung Opacity', 'Cardiomegaly', и т.д.), используются для логгирования.\n",
    "        \"\"\"\n",
    "        super().__init__()\n",
    "\n",
    "        self.save_hyperparameters(ignore='encoder')\n",
    "\n",
    "        self.encoder = encoder\n",
    "        self.head = nn.Linear(encoder.out_dim, num_labels)\n",
    "        self.pos_weights = pos_weights\n",
    "        if label_names is not None:\n",
    "            self.label_names = label_names\n",
    "        else:\n",
    "            self.label_names = [f'label_{i}' for i in range(num_labels)]\n",
    "        self.metrics = nn.ModuleDict({\n",
    "            'auroc': MultilabelAUROC(num_labels, average='none', ignore_index=-1),\n",
    "            'ap': MultilabelAveragePrecision(num_labels, average='none', ignore_index=-1)\n",
    "        })\n",
    "        self.freeze_until_epoch = freeze_until_epoch\n",
    "        self.lr = lr\n",
    "\n",
    "    def training_step(self, batch: Any, batch_idx: int) -> torch.Tensor:\n",
    "        image = batch['image']\n",
    "        if self.freeze_until_epoch is not None and self.current_epoch < self.freeze_until_epoch:\n",
    "            with torch.inference_mode(), eval_mode(self.encoder):\n",
    "                features = self.encoder(image)\n",
    "            features = features.clone()\n",
    "        else:\n",
    "            features = self.encoder(image)\n",
    "        pred_logits = self.head(features)\n",
    "        gt_labels = batch['labels'].to(self.dtype)\n",
    "\n",
    "        if self.pos_weights is not None:\n",
    "            pos_weights = torch.tensor(self.pos_weights, dtype=self.dtype, device=self.device)\n",
    "            pos_weights = torch.broadcast_to(pos_weights, gt_labels.shape)\n",
    "        else:\n",
    "            pos_weights = torch.ones_like(gt_labels)\n",
    "        loss = F.binary_cross_entropy_with_logits(pred_logits, gt_labels, pos_weight=pos_weights)\n",
    "        self.log(f'train/loss', loss, prog_bar=True, on_epoch=True, on_step=False)\n",
    "\n",
    "        return loss\n",
    "\n",
    "    def on_validation_epoch_start(self) -> None:\n",
    "        for metric in self.metrics.values():\n",
    "            metric.reset()\n",
    "\n",
    "    def validation_step(self, batch: Any, batch_idx: int) -> None:\n",
    "        image = batch['image']\n",
    "        features = self.encoder(image)\n",
    "        pred_probs = torch.sigmoid(self.head(features))\n",
    "\n",
    "        gt_labels = batch['labels']\n",
    "        for metric in self.metrics.values():\n",
    "            metric.update(pred_probs, gt_labels)\n",
    "\n",
    "    def on_validation_epoch_end(self) -> None:\n",
    "        for metric_name, metric in self.metrics.items():\n",
    "            metric_values = metric.compute()\n",
    "            for i, label_name in enumerate(self.label_names):\n",
    "                self.log(f'val/{label_name}_{metric_name}', metric_values[i], prog_bar=True)\n",
    "            self.log(f'val/avg_{metric_name}', metric_values.mean(), prog_bar=True)\n",
    "\n",
    "    def configure_optimizers(self) -> OptimizerLRScheduler:\n",
    "        optimizer = torch.optim.AdamW(\n",
    "            params=self.parameters(),\n",
    "            lr=self.lr\n",
    "        )\n",
    "        scheduler = torch.optim.lr_scheduler.OneCycleLR(\n",
    "            optimizer=optimizer,\n",
    "            max_lr=self.lr,\n",
    "            total_steps=self.trainer.estimated_stepping_batches,\n",
    "            pct_start=0.1,\n",
    "        )\n",
    "        return {\n",
    "            'optimizer': optimizer,\n",
    "            'lr_scheduler': {\n",
    "                'scheduler': scheduler,\n",
    "                'interval': 'step',\n",
    "            }\n",
    "        }\n"
   ]
  },
  {
   "cell_type": "markdown",
   "metadata": {},
   "source": [
    "## 3. Обучение классификаторов\n",
    "\n",
    "Теперь мы используем реализованные классы `VinDrCXRDataModule` и `MultilabelClassification` для обучения и валидации классификаторов на основе `ResNet50Encoder` и `MoonshotEncoder`."
   ]
  },
  {
   "cell_type": "markdown",
   "metadata": {},
   "source": [
    "### 3.1. ResNet50"
   ]
  },
  {
   "cell_type": "code",
   "execution_count": 20,
   "metadata": {},
   "outputs": [
    {
     "name": "stderr",
     "output_type": "stream",
     "text": [
      "/home/jovyan/misha/miniconda3/envs/moonshot_for_mosmed/lib/python3.12/site-packages/torchvision/models/_utils.py:208: UserWarning: The parameter 'pretrained' is deprecated since 0.13 and may be removed in the future, please use 'weights' instead.\n",
      "  warnings.warn(\n",
      "/home/jovyan/misha/miniconda3/envs/moonshot_for_mosmed/lib/python3.12/site-packages/torchvision/models/_utils.py:223: UserWarning: Arguments other than a weight enum or `None` for 'weights' are deprecated since 0.13 and may be removed in the future. The current behavior is equivalent to passing `weights=ResNet50_Weights.IMAGENET1K_V1`. You can also use `weights=ResNet50_Weights.DEFAULT` to get the most up-to-date weights.\n",
      "  warnings.warn(msg)\n",
      "Trainer will use only 1 of 8 GPUs because it is running inside an interactive / notebook environment. You may try to set `Trainer(devices=8)` but please note that multi-GPU inside interactive / notebook environments is considered experimental and unstable. Your mileage may vary.\n",
      "GPU available: True (cuda), used: True\n",
      "TPU available: False, using: 0 TPU cores\n",
      "HPU available: False, using: 0 HPUs\n",
      "You are using a CUDA device ('NVIDIA H100 80GB HBM3') that has Tensor Cores. To properly utilize them, you should set `torch.set_float32_matmul_precision('medium' | 'high')` which will trade-off precision for performance. For more details, read https://pytorch.org/docs/stable/generated/torch.set_float32_matmul_precision.html#torch.set_float32_matmul_precision\n",
      "LOCAL_RANK: 0 - CUDA_VISIBLE_DEVICES: [0,1,2,3,4,5,6,7]\n",
      "Loading `train_dataloader` to estimate number of stepping batches.\n",
      "\n",
      "  | Name    | Type            | Params | Mode \n",
      "----------------------------------------------------\n",
      "0 | encoder | ResNet50Encoder | 23.5 M | train\n",
      "1 | head    | Linear          | 55.3 K | train\n",
      "2 | metrics | ModuleDict      | 0      | train\n",
      "----------------------------------------------------\n",
      "23.6 M    Trainable params\n",
      "0         Non-trainable params\n",
      "23.6 M    Total params\n",
      "94.253    Total estimated model params size (MB)\n",
      "156       Modules in train mode\n",
      "0         Modules in eval mode\n"
     ]
    },
    {
     "data": {
      "application/vnd.jupyter.widget-view+json": {
       "model_id": "c7b113277ecd40d89af7bcb639c620db",
       "version_major": 2,
       "version_minor": 0
      },
      "text/plain": [
       "Sanity Checking: |          | 0/? [00:00<?, ?it/s]"
      ]
     },
     "metadata": {},
     "output_type": "display_data"
    },
    {
     "name": "stderr",
     "output_type": "stream",
     "text": [
      "/home/jovyan/misha/miniconda3/envs/moonshot_for_mosmed/lib/python3.12/site-packages/torchmetrics/utilities/prints.py:43: UserWarning: No positive samples in targets, true positive value should be meaningless. Returning zero tensor in true positive score\n",
      "  warnings.warn(*args, **kwargs)  # noqa: B028\n",
      "/home/jovyan/misha/miniconda3/envs/moonshot_for_mosmed/lib/python3.12/site-packages/torchmetrics/utilities/prints.py:43: UserWarning: No positive samples found in target, recall is undefined. Setting recall to one for all thresholds.\n",
      "  warnings.warn(*args, **kwargs)  # noqa: B028\n"
     ]
    },
    {
     "data": {
      "application/vnd.jupyter.widget-view+json": {
       "model_id": "eac96ff9271444edbb21f890927b34cf",
       "version_major": 2,
       "version_minor": 0
      },
      "text/plain": [
       "Training: |          | 0/? [00:00<?, ?it/s]"
      ]
     },
     "metadata": {},
     "output_type": "display_data"
    },
    {
     "data": {
      "application/vnd.jupyter.widget-view+json": {
       "model_id": "accb278ae6634fe5b0e8cef08a4b2c16",
       "version_major": 2,
       "version_minor": 0
      },
      "text/plain": [
       "Validation: |          | 0/? [00:00<?, ?it/s]"
      ]
     },
     "metadata": {},
     "output_type": "display_data"
    },
    {
     "data": {
      "application/vnd.jupyter.widget-view+json": {
       "model_id": "5454befd11e942f39e7d6661222dfba7",
       "version_major": 2,
       "version_minor": 0
      },
      "text/plain": [
       "Validation: |          | 0/? [00:00<?, ?it/s]"
      ]
     },
     "metadata": {},
     "output_type": "display_data"
    },
    {
     "data": {
      "application/vnd.jupyter.widget-view+json": {
       "model_id": "3c4dcd21ea9e4b9ea7e21e93c61f6532",
       "version_major": 2,
       "version_minor": 0
      },
      "text/plain": [
       "Validation: |          | 0/? [00:00<?, ?it/s]"
      ]
     },
     "metadata": {},
     "output_type": "display_data"
    },
    {
     "data": {
      "application/vnd.jupyter.widget-view+json": {
       "model_id": "35085ccd3c284976a25a8f9ca3a5dea3",
       "version_major": 2,
       "version_minor": 0
      },
      "text/plain": [
       "Validation: |          | 0/? [00:00<?, ?it/s]"
      ]
     },
     "metadata": {},
     "output_type": "display_data"
    },
    {
     "data": {
      "application/vnd.jupyter.widget-view+json": {
       "model_id": "e880ef49df6f4c6b9e7cb343e07b4137",
       "version_major": 2,
       "version_minor": 0
      },
      "text/plain": [
       "Validation: |          | 0/? [00:00<?, ?it/s]"
      ]
     },
     "metadata": {},
     "output_type": "display_data"
    },
    {
     "data": {
      "application/vnd.jupyter.widget-view+json": {
       "model_id": "d4230c505f644662a2daad6e4e90577a",
       "version_major": 2,
       "version_minor": 0
      },
      "text/plain": [
       "Validation: |          | 0/? [00:00<?, ?it/s]"
      ]
     },
     "metadata": {},
     "output_type": "display_data"
    },
    {
     "data": {
      "application/vnd.jupyter.widget-view+json": {
       "model_id": "de5567aa530c44d6bd5ec45fac3a2777",
       "version_major": 2,
       "version_minor": 0
      },
      "text/plain": [
       "Validation: |          | 0/? [00:00<?, ?it/s]"
      ]
     },
     "metadata": {},
     "output_type": "display_data"
    },
    {
     "data": {
      "application/vnd.jupyter.widget-view+json": {
       "model_id": "13f0ca43705242cba7d74aed7278d541",
       "version_major": 2,
       "version_minor": 0
      },
      "text/plain": [
       "Validation: |          | 0/? [00:00<?, ?it/s]"
      ]
     },
     "metadata": {},
     "output_type": "display_data"
    },
    {
     "data": {
      "application/vnd.jupyter.widget-view+json": {
       "model_id": "162e3105a0cb4a05982a8805da428df9",
       "version_major": 2,
       "version_minor": 0
      },
      "text/plain": [
       "Validation: |          | 0/? [00:00<?, ?it/s]"
      ]
     },
     "metadata": {},
     "output_type": "display_data"
    },
    {
     "data": {
      "application/vnd.jupyter.widget-view+json": {
       "model_id": "175dd40474874a3991782d4b7f24f510",
       "version_major": 2,
       "version_minor": 0
      },
      "text/plain": [
       "Validation: |          | 0/? [00:00<?, ?it/s]"
      ]
     },
     "metadata": {},
     "output_type": "display_data"
    },
    {
     "data": {
      "application/vnd.jupyter.widget-view+json": {
       "model_id": "bc5eba7e6c874582a5dfe895c771022f",
       "version_major": 2,
       "version_minor": 0
      },
      "text/plain": [
       "Validation: |          | 0/? [00:00<?, ?it/s]"
      ]
     },
     "metadata": {},
     "output_type": "display_data"
    },
    {
     "data": {
      "application/vnd.jupyter.widget-view+json": {
       "model_id": "6158507ed2bc4eb08f8f937c52ad70c0",
       "version_major": 2,
       "version_minor": 0
      },
      "text/plain": [
       "Validation: |          | 0/? [00:00<?, ?it/s]"
      ]
     },
     "metadata": {},
     "output_type": "display_data"
    },
    {
     "data": {
      "application/vnd.jupyter.widget-view+json": {
       "model_id": "6e55d892a2c147a6b3878012960eac8d",
       "version_major": 2,
       "version_minor": 0
      },
      "text/plain": [
       "Validation: |          | 0/? [00:00<?, ?it/s]"
      ]
     },
     "metadata": {},
     "output_type": "display_data"
    },
    {
     "data": {
      "application/vnd.jupyter.widget-view+json": {
       "model_id": "60c10469e4da4c318230eb0b556f96bf",
       "version_major": 2,
       "version_minor": 0
      },
      "text/plain": [
       "Validation: |          | 0/? [00:00<?, ?it/s]"
      ]
     },
     "metadata": {},
     "output_type": "display_data"
    },
    {
     "data": {
      "application/vnd.jupyter.widget-view+json": {
       "model_id": "df489435c1624c869e455198c2191313",
       "version_major": 2,
       "version_minor": 0
      },
      "text/plain": [
       "Validation: |          | 0/? [00:00<?, ?it/s]"
      ]
     },
     "metadata": {},
     "output_type": "display_data"
    },
    {
     "data": {
      "application/vnd.jupyter.widget-view+json": {
       "model_id": "47a7ab38e7a2462691f391b7fa3ed51d",
       "version_major": 2,
       "version_minor": 0
      },
      "text/plain": [
       "Validation: |          | 0/? [00:00<?, ?it/s]"
      ]
     },
     "metadata": {},
     "output_type": "display_data"
    },
    {
     "data": {
      "application/vnd.jupyter.widget-view+json": {
       "model_id": "52f857670a5e419aa972ee3222d4ea6e",
       "version_major": 2,
       "version_minor": 0
      },
      "text/plain": [
       "Validation: |          | 0/? [00:00<?, ?it/s]"
      ]
     },
     "metadata": {},
     "output_type": "display_data"
    },
    {
     "data": {
      "application/vnd.jupyter.widget-view+json": {
       "model_id": "ad17fe199bae4e8198a7ee229134478d",
       "version_major": 2,
       "version_minor": 0
      },
      "text/plain": [
       "Validation: |          | 0/? [00:00<?, ?it/s]"
      ]
     },
     "metadata": {},
     "output_type": "display_data"
    },
    {
     "data": {
      "application/vnd.jupyter.widget-view+json": {
       "model_id": "8f5d90df2fd94052a40996b3e664507b",
       "version_major": 2,
       "version_minor": 0
      },
      "text/plain": [
       "Validation: |          | 0/? [00:00<?, ?it/s]"
      ]
     },
     "metadata": {},
     "output_type": "display_data"
    },
    {
     "data": {
      "application/vnd.jupyter.widget-view+json": {
       "model_id": "09af368a4c0846439b96381e320e3b34",
       "version_major": 2,
       "version_minor": 0
      },
      "text/plain": [
       "Validation: |          | 0/? [00:00<?, ?it/s]"
      ]
     },
     "metadata": {},
     "output_type": "display_data"
    },
    {
     "data": {
      "application/vnd.jupyter.widget-view+json": {
       "model_id": "82772bb5e7a049d482a795e3913add90",
       "version_major": 2,
       "version_minor": 0
      },
      "text/plain": [
       "Validation: |          | 0/? [00:00<?, ?it/s]"
      ]
     },
     "metadata": {},
     "output_type": "display_data"
    },
    {
     "data": {
      "application/vnd.jupyter.widget-view+json": {
       "model_id": "c2846c46bbb04d73a1f71732804cc8c8",
       "version_major": 2,
       "version_minor": 0
      },
      "text/plain": [
       "Validation: |          | 0/? [00:00<?, ?it/s]"
      ]
     },
     "metadata": {},
     "output_type": "display_data"
    },
    {
     "data": {
      "application/vnd.jupyter.widget-view+json": {
       "model_id": "61d7b3912f26410e904d40a3c5a64c67",
       "version_major": 2,
       "version_minor": 0
      },
      "text/plain": [
       "Validation: |          | 0/? [00:00<?, ?it/s]"
      ]
     },
     "metadata": {},
     "output_type": "display_data"
    },
    {
     "data": {
      "application/vnd.jupyter.widget-view+json": {
       "model_id": "1cd053cca40c49dab57b82a0433410a7",
       "version_major": 2,
       "version_minor": 0
      },
      "text/plain": [
       "Validation: |          | 0/? [00:00<?, ?it/s]"
      ]
     },
     "metadata": {},
     "output_type": "display_data"
    },
    {
     "data": {
      "application/vnd.jupyter.widget-view+json": {
       "model_id": "cf028404dff94c70bff19c7044776959",
       "version_major": 2,
       "version_minor": 0
      },
      "text/plain": [
       "Validation: |          | 0/? [00:00<?, ?it/s]"
      ]
     },
     "metadata": {},
     "output_type": "display_data"
    },
    {
     "data": {
      "application/vnd.jupyter.widget-view+json": {
       "model_id": "b866b89c736e48e7b83ba9466ac6310f",
       "version_major": 2,
       "version_minor": 0
      },
      "text/plain": [
       "Validation: |          | 0/? [00:00<?, ?it/s]"
      ]
     },
     "metadata": {},
     "output_type": "display_data"
    },
    {
     "data": {
      "application/vnd.jupyter.widget-view+json": {
       "model_id": "77326d11af3b42f7b06e28756b4a40b5",
       "version_major": 2,
       "version_minor": 0
      },
      "text/plain": [
       "Validation: |          | 0/? [00:00<?, ?it/s]"
      ]
     },
     "metadata": {},
     "output_type": "display_data"
    },
    {
     "data": {
      "application/vnd.jupyter.widget-view+json": {
       "model_id": "ad2d3aa54fea442481a1959390c97fa4",
       "version_major": 2,
       "version_minor": 0
      },
      "text/plain": [
       "Validation: |          | 0/? [00:00<?, ?it/s]"
      ]
     },
     "metadata": {},
     "output_type": "display_data"
    },
    {
     "data": {
      "application/vnd.jupyter.widget-view+json": {
       "model_id": "6f43558d46cb4cef8db4762d26ee149c",
       "version_major": 2,
       "version_minor": 0
      },
      "text/plain": [
       "Validation: |          | 0/? [00:00<?, ?it/s]"
      ]
     },
     "metadata": {},
     "output_type": "display_data"
    },
    {
     "data": {
      "application/vnd.jupyter.widget-view+json": {
       "model_id": "68d8283fbef2416397a7613ce56752ec",
       "version_major": 2,
       "version_minor": 0
      },
      "text/plain": [
       "Validation: |          | 0/? [00:00<?, ?it/s]"
      ]
     },
     "metadata": {},
     "output_type": "display_data"
    },
    {
     "name": "stderr",
     "output_type": "stream",
     "text": [
      "`Trainer.fit` stopped: `max_epochs=30` reached.\n"
     ]
    }
   ],
   "source": [
    "datamodule = VinDrCXRDataModule(\n",
    "    vindrcxr_dirpath=VINDRCXR_DIRPATH,\n",
    "    train_image_transform=TrainImageTransform(),\n",
    "    test_image_transform=TestImageTransform(),\n",
    "    batch_size=16,\n",
    "    num_workers=NUM_WORKERS,\n",
    ")\n",
    "datamodule.prepare_data()\n",
    "datamodule.setup()\n",
    "\n",
    "model = MultilabelClassification(\n",
    "    encoder=ResNet50Encoder(),\n",
    "    num_labels=len(LABELS),\n",
    "    pos_weights=POS_WEIGHTS,\n",
    "    lr=5e-5,\n",
    "    label_names=LABELS\n",
    ")\n",
    "\n",
    "trainer = pl.Trainer(\n",
    "    accelerator='gpu',\n",
    "    logger=CSVLogger(\n",
    "        save_dir='classification_logs',\n",
    "        name='resnet50'\n",
    "    ),\n",
    "    precision='32-true',\n",
    "    max_epochs=30\n",
    ")\n",
    "\n",
    "trainer.fit(model=model, datamodule=datamodule)\n"
   ]
  },
  {
   "cell_type": "markdown",
   "metadata": {},
   "source": [
    "### 3.4. Moonshot"
   ]
  },
  {
   "cell_type": "code",
   "execution_count": 21,
   "metadata": {},
   "outputs": [
    {
     "name": "stderr",
     "output_type": "stream",
     "text": [
      "/home/jovyan/misha/moonshot_for_mosmed/moonshot/model.py:21: FutureWarning: You are using `torch.load` with `weights_only=False` (the current default value), which uses the default pickle module implicitly. It is possible to construct malicious pickle data which will execute arbitrary code during unpickling (See https://github.com/pytorch/pytorch/blob/main/SECURITY.md#untrusted-models for more details). In a future release, the default value for `weights_only` will be flipped to `True`. This limits the functions that could be executed during unpickling. Arbitrary objects will no longer be allowed to be loaded via this mode unless they are explicitly allowlisted by the user via `torch.serialization.add_safe_globals`. We recommend you start setting `weights_only=True` for any use case where you don't have full control of the loaded file. Please open an issue on GitHub for any issues related to this experimental feature.\n",
      "  model.load_state_dict(torch.load(model_filepath))\n",
      "Trainer will use only 1 of 8 GPUs because it is running inside an interactive / notebook environment. You may try to set `Trainer(devices=8)` but please note that multi-GPU inside interactive / notebook environments is considered experimental and unstable. Your mileage may vary.\n",
      "Using 16bit Automatic Mixed Precision (AMP)\n",
      "GPU available: True (cuda), used: True\n",
      "TPU available: False, using: 0 TPU cores\n",
      "HPU available: False, using: 0 HPUs\n",
      "LOCAL_RANK: 0 - CUDA_VISIBLE_DEVICES: [0,1,2,3,4,5,6,7]\n",
      "Loading `train_dataloader` to estimate number of stepping batches.\n",
      "\n",
      "  | Name    | Type            | Params | Mode \n",
      "----------------------------------------------------\n",
      "0 | encoder | MoonshotEncoder | 305 M  | train\n",
      "1 | head    | Linear          | 27.7 K | train\n",
      "2 | metrics | ModuleDict      | 0      | train\n",
      "----------------------------------------------------\n",
      "305 M     Trainable params\n",
      "0         Non-trainable params\n",
      "305 M     Total params\n",
      "1,221.693 Total estimated model params size (MB)\n",
      "521       Modules in train mode\n",
      "0         Modules in eval mode\n"
     ]
    },
    {
     "data": {
      "application/vnd.jupyter.widget-view+json": {
       "model_id": "bdcaea9cbf614d2a8efdf3ec8f483a38",
       "version_major": 2,
       "version_minor": 0
      },
      "text/plain": [
       "Sanity Checking: |          | 0/? [00:00<?, ?it/s]"
      ]
     },
     "metadata": {},
     "output_type": "display_data"
    },
    {
     "name": "stderr",
     "output_type": "stream",
     "text": [
      "/home/jovyan/misha/miniconda3/envs/moonshot_for_mosmed/lib/python3.12/site-packages/torchmetrics/utilities/prints.py:43: UserWarning: No positive samples in targets, true positive value should be meaningless. Returning zero tensor in true positive score\n",
      "  warnings.warn(*args, **kwargs)  # noqa: B028\n",
      "/home/jovyan/misha/miniconda3/envs/moonshot_for_mosmed/lib/python3.12/site-packages/torchmetrics/utilities/prints.py:43: UserWarning: No positive samples found in target, recall is undefined. Setting recall to one for all thresholds.\n",
      "  warnings.warn(*args, **kwargs)  # noqa: B028\n"
     ]
    },
    {
     "data": {
      "application/vnd.jupyter.widget-view+json": {
       "model_id": "0009a7ec0f024a2b85899870508980b1",
       "version_major": 2,
       "version_minor": 0
      },
      "text/plain": [
       "Training: |          | 0/? [00:00<?, ?it/s]"
      ]
     },
     "metadata": {},
     "output_type": "display_data"
    },
    {
     "data": {
      "application/vnd.jupyter.widget-view+json": {
       "model_id": "f1a06c7134074dd49ebbfe6a75729f03",
       "version_major": 2,
       "version_minor": 0
      },
      "text/plain": [
       "Validation: |          | 0/? [00:00<?, ?it/s]"
      ]
     },
     "metadata": {},
     "output_type": "display_data"
    },
    {
     "data": {
      "application/vnd.jupyter.widget-view+json": {
       "model_id": "de3a5e7d0b9a408c8bb7645438a12586",
       "version_major": 2,
       "version_minor": 0
      },
      "text/plain": [
       "Validation: |          | 0/? [00:00<?, ?it/s]"
      ]
     },
     "metadata": {},
     "output_type": "display_data"
    },
    {
     "data": {
      "application/vnd.jupyter.widget-view+json": {
       "model_id": "ee7b1ebe5feb43b693c4f3405791aa07",
       "version_major": 2,
       "version_minor": 0
      },
      "text/plain": [
       "Validation: |          | 0/? [00:00<?, ?it/s]"
      ]
     },
     "metadata": {},
     "output_type": "display_data"
    },
    {
     "data": {
      "application/vnd.jupyter.widget-view+json": {
       "model_id": "b9e86b809ae74a29aeaeddf2b136d869",
       "version_major": 2,
       "version_minor": 0
      },
      "text/plain": [
       "Validation: |          | 0/? [00:00<?, ?it/s]"
      ]
     },
     "metadata": {},
     "output_type": "display_data"
    },
    {
     "data": {
      "application/vnd.jupyter.widget-view+json": {
       "model_id": "6431034b4f39492db815f99fcb54aacf",
       "version_major": 2,
       "version_minor": 0
      },
      "text/plain": [
       "Validation: |          | 0/? [00:00<?, ?it/s]"
      ]
     },
     "metadata": {},
     "output_type": "display_data"
    },
    {
     "data": {
      "application/vnd.jupyter.widget-view+json": {
       "model_id": "c7d54251681747a6a827306e6d95ca9e",
       "version_major": 2,
       "version_minor": 0
      },
      "text/plain": [
       "Validation: |          | 0/? [00:00<?, ?it/s]"
      ]
     },
     "metadata": {},
     "output_type": "display_data"
    },
    {
     "data": {
      "application/vnd.jupyter.widget-view+json": {
       "model_id": "ebbba8582bd345108111d016f60e8412",
       "version_major": 2,
       "version_minor": 0
      },
      "text/plain": [
       "Validation: |          | 0/? [00:00<?, ?it/s]"
      ]
     },
     "metadata": {},
     "output_type": "display_data"
    },
    {
     "data": {
      "application/vnd.jupyter.widget-view+json": {
       "model_id": "f504c3a2b3d244829f75c6a9a34c9405",
       "version_major": 2,
       "version_minor": 0
      },
      "text/plain": [
       "Validation: |          | 0/? [00:00<?, ?it/s]"
      ]
     },
     "metadata": {},
     "output_type": "display_data"
    },
    {
     "data": {
      "application/vnd.jupyter.widget-view+json": {
       "model_id": "6e36cae0736e47bf9aab27d7079a1965",
       "version_major": 2,
       "version_minor": 0
      },
      "text/plain": [
       "Validation: |          | 0/? [00:00<?, ?it/s]"
      ]
     },
     "metadata": {},
     "output_type": "display_data"
    },
    {
     "data": {
      "application/vnd.jupyter.widget-view+json": {
       "model_id": "fa51a549d12c43bfae83164ddb042e30",
       "version_major": 2,
       "version_minor": 0
      },
      "text/plain": [
       "Validation: |          | 0/? [00:00<?, ?it/s]"
      ]
     },
     "metadata": {},
     "output_type": "display_data"
    },
    {
     "data": {
      "application/vnd.jupyter.widget-view+json": {
       "model_id": "e31e15798f8c41b9ae8d89ef59fc3e24",
       "version_major": 2,
       "version_minor": 0
      },
      "text/plain": [
       "Validation: |          | 0/? [00:00<?, ?it/s]"
      ]
     },
     "metadata": {},
     "output_type": "display_data"
    },
    {
     "data": {
      "application/vnd.jupyter.widget-view+json": {
       "model_id": "5a906a6c284a4cfbb228ed6335506db3",
       "version_major": 2,
       "version_minor": 0
      },
      "text/plain": [
       "Validation: |          | 0/? [00:00<?, ?it/s]"
      ]
     },
     "metadata": {},
     "output_type": "display_data"
    },
    {
     "data": {
      "application/vnd.jupyter.widget-view+json": {
       "model_id": "010f3e1b40b94223a9eea4fd1a16a668",
       "version_major": 2,
       "version_minor": 0
      },
      "text/plain": [
       "Validation: |          | 0/? [00:00<?, ?it/s]"
      ]
     },
     "metadata": {},
     "output_type": "display_data"
    },
    {
     "data": {
      "application/vnd.jupyter.widget-view+json": {
       "model_id": "7d8b37e917614dacaf02be77edffbf3f",
       "version_major": 2,
       "version_minor": 0
      },
      "text/plain": [
       "Validation: |          | 0/? [00:00<?, ?it/s]"
      ]
     },
     "metadata": {},
     "output_type": "display_data"
    },
    {
     "data": {
      "application/vnd.jupyter.widget-view+json": {
       "model_id": "6237c89fc5274c29b8a7943a5e74a5f0",
       "version_major": 2,
       "version_minor": 0
      },
      "text/plain": [
       "Validation: |          | 0/? [00:00<?, ?it/s]"
      ]
     },
     "metadata": {},
     "output_type": "display_data"
    },
    {
     "data": {
      "application/vnd.jupyter.widget-view+json": {
       "model_id": "0bcb911ea522447d87412825042d4baa",
       "version_major": 2,
       "version_minor": 0
      },
      "text/plain": [
       "Validation: |          | 0/? [00:00<?, ?it/s]"
      ]
     },
     "metadata": {},
     "output_type": "display_data"
    },
    {
     "data": {
      "application/vnd.jupyter.widget-view+json": {
       "model_id": "ff70233df10a4c76bee403a9b5962e68",
       "version_major": 2,
       "version_minor": 0
      },
      "text/plain": [
       "Validation: |          | 0/? [00:00<?, ?it/s]"
      ]
     },
     "metadata": {},
     "output_type": "display_data"
    },
    {
     "data": {
      "application/vnd.jupyter.widget-view+json": {
       "model_id": "649af2fe8c194a799880133be5c22479",
       "version_major": 2,
       "version_minor": 0
      },
      "text/plain": [
       "Validation: |          | 0/? [00:00<?, ?it/s]"
      ]
     },
     "metadata": {},
     "output_type": "display_data"
    },
    {
     "data": {
      "application/vnd.jupyter.widget-view+json": {
       "model_id": "c1b468731596415a9b36785f8f707c66",
       "version_major": 2,
       "version_minor": 0
      },
      "text/plain": [
       "Validation: |          | 0/? [00:00<?, ?it/s]"
      ]
     },
     "metadata": {},
     "output_type": "display_data"
    },
    {
     "data": {
      "application/vnd.jupyter.widget-view+json": {
       "model_id": "d20d282261c34aeea300c030e5ea2f30",
       "version_major": 2,
       "version_minor": 0
      },
      "text/plain": [
       "Validation: |          | 0/? [00:00<?, ?it/s]"
      ]
     },
     "metadata": {},
     "output_type": "display_data"
    },
    {
     "data": {
      "application/vnd.jupyter.widget-view+json": {
       "model_id": "453f70423c2c42c6b45ee9d5a865ef42",
       "version_major": 2,
       "version_minor": 0
      },
      "text/plain": [
       "Validation: |          | 0/? [00:00<?, ?it/s]"
      ]
     },
     "metadata": {},
     "output_type": "display_data"
    },
    {
     "data": {
      "application/vnd.jupyter.widget-view+json": {
       "model_id": "94809692ef7f4d2e837f10cefd4210b3",
       "version_major": 2,
       "version_minor": 0
      },
      "text/plain": [
       "Validation: |          | 0/? [00:00<?, ?it/s]"
      ]
     },
     "metadata": {},
     "output_type": "display_data"
    },
    {
     "data": {
      "application/vnd.jupyter.widget-view+json": {
       "model_id": "892514ceb5b84c9d8ee00dcbeb9fa7e4",
       "version_major": 2,
       "version_minor": 0
      },
      "text/plain": [
       "Validation: |          | 0/? [00:00<?, ?it/s]"
      ]
     },
     "metadata": {},
     "output_type": "display_data"
    },
    {
     "data": {
      "application/vnd.jupyter.widget-view+json": {
       "model_id": "f38905c803264f72a345b9a096d2637a",
       "version_major": 2,
       "version_minor": 0
      },
      "text/plain": [
       "Validation: |          | 0/? [00:00<?, ?it/s]"
      ]
     },
     "metadata": {},
     "output_type": "display_data"
    },
    {
     "data": {
      "application/vnd.jupyter.widget-view+json": {
       "model_id": "330922a313ee4997b5975e1dec9e90c6",
       "version_major": 2,
       "version_minor": 0
      },
      "text/plain": [
       "Validation: |          | 0/? [00:00<?, ?it/s]"
      ]
     },
     "metadata": {},
     "output_type": "display_data"
    },
    {
     "data": {
      "application/vnd.jupyter.widget-view+json": {
       "model_id": "fa9909181900457390f7014fcb0d38bf",
       "version_major": 2,
       "version_minor": 0
      },
      "text/plain": [
       "Validation: |          | 0/? [00:00<?, ?it/s]"
      ]
     },
     "metadata": {},
     "output_type": "display_data"
    },
    {
     "data": {
      "application/vnd.jupyter.widget-view+json": {
       "model_id": "adcfd7b24ba443afba89771d78f0f573",
       "version_major": 2,
       "version_minor": 0
      },
      "text/plain": [
       "Validation: |          | 0/? [00:00<?, ?it/s]"
      ]
     },
     "metadata": {},
     "output_type": "display_data"
    },
    {
     "data": {
      "application/vnd.jupyter.widget-view+json": {
       "model_id": "00f617ff57f4499c9d8b10ac230fcc88",
       "version_major": 2,
       "version_minor": 0
      },
      "text/plain": [
       "Validation: |          | 0/? [00:00<?, ?it/s]"
      ]
     },
     "metadata": {},
     "output_type": "display_data"
    },
    {
     "data": {
      "application/vnd.jupyter.widget-view+json": {
       "model_id": "6b89811a70554d11b9a8bde9d594c56e",
       "version_major": 2,
       "version_minor": 0
      },
      "text/plain": [
       "Validation: |          | 0/? [00:00<?, ?it/s]"
      ]
     },
     "metadata": {},
     "output_type": "display_data"
    },
    {
     "data": {
      "application/vnd.jupyter.widget-view+json": {
       "model_id": "110b190040364503a51afabdb09ce64c",
       "version_major": 2,
       "version_minor": 0
      },
      "text/plain": [
       "Validation: |          | 0/? [00:00<?, ?it/s]"
      ]
     },
     "metadata": {},
     "output_type": "display_data"
    },
    {
     "name": "stderr",
     "output_type": "stream",
     "text": [
      "`Trainer.fit` stopped: `max_epochs=30` reached.\n"
     ]
    }
   ],
   "source": [
    "datamodule = VinDrCXRDataModule(\n",
    "    vindrcxr_dirpath=VINDRCXR_DIRPATH,\n",
    "    train_image_transform=TrainImageTransform(),\n",
    "    test_image_transform=TestImageTransform(),\n",
    "    batch_size=16,\n",
    "    num_workers=NUM_WORKERS,\n",
    ")\n",
    "datamodule.prepare_data()\n",
    "datamodule.setup()\n",
    "\n",
    "model = MultilabelClassification(\n",
    "    encoder=MoonshotEncoder(),\n",
    "    num_labels=len(LABELS),\n",
    "    pos_weights=POS_WEIGHTS,\n",
    "    freeze_until_epoch=float('inf'),  # линейный пробинг, требует мало GPU-памяти\n",
    "    # freeze_until_epoch=29,  # fine-tuning на последней эпохе, требует много GPU-памяти\n",
    "    lr=5e-5,\n",
    "    label_names=LABELS\n",
    ")\n",
    "\n",
    "trainer = pl.Trainer(\n",
    "    accelerator='gpu',\n",
    "    logger=CSVLogger(\n",
    "        save_dir='classification_logs',\n",
    "        name='moonshot'\n",
    "    ),\n",
    "    precision='16-mixed',\n",
    "    max_epochs=30\n",
    ")\n",
    "\n",
    "trainer.fit(model=model, datamodule=datamodule)\n"
   ]
  },
  {
   "cell_type": "markdown",
   "metadata": {},
   "source": [
    "## 4. Результаты валидации классификаторов\n",
    "\n",
    "Здесь мы сравниваем качество классификаторов на основе ResNet50 и Moonshot."
   ]
  },
  {
   "cell_type": "code",
   "execution_count": 22,
   "metadata": {},
   "outputs": [],
   "source": [
    "resnet50_metrics = pd.read_csv('classification_logs/resnet50/version_0/metrics.csv')\n",
    "moonshot_metrics = pd.read_csv('classification_logs/moonshot/version_0/metrics.csv')"
   ]
  },
  {
   "cell_type": "markdown",
   "metadata": {},
   "source": [
    "Давайте посмотрим, как средний ROC-AUC классификаторов росло по мере обучения:"
   ]
  },
  {
   "cell_type": "code",
   "execution_count": 23,
   "metadata": {},
   "outputs": [
    {
     "data": {
      "text/plain": [
       "<matplotlib.legend.Legend at 0x7f095c3f37d0>"
      ]
     },
     "execution_count": 23,
     "metadata": {},
     "output_type": "execute_result"
    },
    {
     "data": {
      "image/png": "[encoded data removed]",
      "text/plain": [
       "<Figure size 640x480 with 1 Axes>"
      ]
     },
     "metadata": {},
     "output_type": "display_data"
    }
   ],
   "source": [
    "epochs = np.arange(30)\n",
    "\n",
    "plt.plot(epochs, resnet50_metrics.set_index('epoch')['val/avg_auroc'].dropna().values, label='ResNet50')\n",
    "plt.plot(epochs, moonshot_metrics.set_index('epoch')['val/avg_auroc'].dropna().values, label='Moonshot')\n",
    "\n",
    "plt.title(\"Средний ROC-AUC по 27 патологиям в зависимости от эпохи обучения\")\n",
    "plt.ylabel('Средний ROC-AUC по 27 патологиям')\n",
    "plt.xlabel('Эпоха')\n",
    "plt.legend()"
   ]
  },
  {
   "cell_type": "markdown",
   "metadata": {},
   "source": [
    "Мы видим, что \n",
    "\n",
    "* Стандартные классификаторы на основе ResNet50 в среднем достигают ROC-AUC около 0.86.\n",
    "\n",
    "* Классификаторы на основе Moonshot в среднем достигают ROC-AUC около 0.94, что значительно превосходит качество стандартных классификаторов."
   ]
  },
  {
   "cell_type": "markdown",
   "metadata": {},
   "source": [
    "## 5. Заключение\n",
    "\n",
    "Мы показали пример применения базовой модели Moonshot для обучения классификаторов рентгенографических изображений грудной клетки на выборке VinDR-CXR [1].\n",
    "\n",
    "Показано, что классификаторы обученные на основе Moonshot значительно превосходят классификаторы, обученные на основе стандартного энкодера ResNet50."
   ]
  },
  {
   "cell_type": "markdown",
   "metadata": {},
   "source": [
    "## References\n",
    "\n",
    "1. Nguyen, H. Q., Lam, K., Le, L. T., Pham, H. H., Tran, D. Q., Nguyen, D. B., ... & Vu, V. (2022). VinDr-CXR: An open dataset of chest X-rays with radiologist’s annotations. Scientific Data, 9(1), 429."
   ]
  }
 ],
 "metadata": {
  "kernelspec": {
   "display_name": "moonshot",
   "language": "python",
   "name": "moonshot"
  },
  "language_info": {
   "codemirror_mode": {
    "name": "ipython",
    "version": 3
   },
   "file_extension": ".py",
   "mimetype": "text/x-python",
   "name": "python",
   "nbconvert_exporter": "python",
   "pygments_lexer": "ipython3",
   "version": "3.10.15"
  }
 },
 "nbformat": 4,
 "nbformat_minor": 2
}
